{
 "cells": [
  {
   "cell_type": "markdown",
   "id": "0d3e3571-73af-4ce8-a94d-bc338845a017",
   "metadata": {},
   "source": [
    "## Q1. Load the \"titanic\" dataset using the load_dataset function of seaborn. Use Plotly express to plot a scatter plot for age and fare columns in the titanic dataset."
   ]
  },
  {
   "cell_type": "code",
   "execution_count": null,
   "id": "b4e86387-b713-4ae6-8821-9aff720f7307",
   "metadata": {},
   "outputs": [],
   "source": [
    "import seaborn as sns\n",
    "import plotly.graph_objects as go\n",
    "df = sns.load_dataset(\"titanic\")\n",
    "df\n",
    "fig = go.Figure()\n",
    "fig.add_trace(go.Scatter(x=df.age , y=df.fare , mode='markers' ))\n",
    "fig.show()"
   ]
  },
  {
   "cell_type": "markdown",
   "id": "870f8966-f955-421b-a8f9-11ed5e00ea64",
   "metadata": {},
   "source": [
    "## Q2. Using the tips dataset in the Plotly library, plot a box plot using Plotly express."
   ]
  },
  {
   "cell_type": "code",
   "execution_count": null,
   "id": "fc9fa933-4f97-472d-8b30-5a3f8b76dbbd",
   "metadata": {},
   "outputs": [],
   "source": [
    "import plotly.express as px\n",
    "import seaborn as sns\n",
    "\n",
    "# Load the tips dataset from seaborn\n",
    "tips = sns.load_dataset(\"tips\")\n",
    "\n",
    "# Create a box plot using Plotly Express\n",
    "fig = px.box(tips, x=\"day\", y=\"total_bill\", title=\"Total Bill Distribution by Day\")\n",
    "\n",
    "# Show the plot\n",
    "fig.show()"
   ]
  },
  {
   "cell_type": "markdown",
   "id": "1a62d173-4d70-4d8a-8e2f-91232f6822cc",
   "metadata": {},
   "source": [
    "## Q3. Using the tips dataset in the Plotly library, Plot a histogram for x= \"sex\" and y=\"total_bill\" column in the tips dataset. Also, use the \"smoker\" column with the pattern_shape parameter and the \"day\""
   ]
  },
  {
   "cell_type": "code",
   "execution_count": null,
   "id": "da1b171c-0590-42de-81a5-24bdf7fa24c5",
   "metadata": {},
   "outputs": [],
   "source": [
    "import plotly.express as px\n",
    "import seaborn as sns\n",
    "\n",
    "# Load the tips dataset from seaborn\n",
    "tips = sns.load_dataset(\"tips\")\n",
    "\n",
    "# Create a histogram using Plotly Express\n",
    "fig = px.histogram(tips, x=\"sex\", y=\"total_bill\", color=\"day\", pattern_shape=\"smoker\",\n",
    "                   title=\"Total Bill Distribution by Sex with Smoker Pattern and Day Color\")\n",
    "\n",
    "# Show the plot\n",
    "fig.show()"
   ]
  },
  {
   "cell_type": "markdown",
   "id": "263ac78e-f6c6-4407-801f-f54d31e09fcd",
   "metadata": {},
   "source": [
    "## Q4. Using the iris dataset in the Plotly library, Plot a scatter matrix plot, using the \"species\" column for the color parameter."
   ]
  },
  {
   "cell_type": "code",
   "execution_count": null,
   "id": "d25248cf-c9de-4611-96d4-e3806f2c9634",
   "metadata": {},
   "outputs": [],
   "source": [
    "import plotly.express as px\n",
    "import seaborn as sns\n",
    "\n",
    "# Load the iris dataset from seaborn\n",
    "iris = sns.load_dataset(\"iris\")\n",
    "\n",
    "# Create a scatter matrix plot using Plotly Express\n",
    "fig = px.scatter_matrix(iris, dimensions=[\"sepal_length\", \"sepal_width\", \"petal_length\", \"petal_width\"],\n",
    "                        color=\"species\", title=\"Scatter Matrix Plot with Species Color\")\n",
    "\n",
    "# Show the plot\n",
    "fig.show()"
   ]
  },
  {
   "cell_type": "markdown",
   "id": "026f0a95-6b24-4d9d-a16b-82c891a328b8",
   "metadata": {},
   "source": [
    "## Q5. What is Distplot? Using Plotly express, plot a distplot.\n",
    "Ans-> Distplot is a term commonly associated with the Seaborn library, not Plotly Express. A distplot is used to display the distribution of a univariate set of observations (one variable) and typically combines a histogram and a kernel density estimate."
   ]
  },
  {
   "cell_type": "code",
   "execution_count": null,
   "id": "81e5e023-d5cd-49ef-9c37-c97013e8ffe3",
   "metadata": {},
   "outputs": [],
   "source": [
    "import plotly.express as px\n",
    "import seaborn as sns\n",
    "\n",
    "# Load the tips dataset from seaborn\n",
    "tips = sns.load_dataset(\"tips\")\n",
    "\n",
    "# Create a histogram using Plotly Express\n",
    "fig = px.histogram(tips, x=\"total_bill\", title=\"Distribution of Total Bills\")\n",
    "\n",
    "# Show the plot\n",
    "fig.show()"
   ]
  }
 ],
 "metadata": {
  "kernelspec": {
   "display_name": "Python 3 (ipykernel)",
   "language": "python",
   "name": "python3"
  },
  "language_info": {
   "codemirror_mode": {
    "name": "ipython",
    "version": 3
   },
   "file_extension": ".py",
   "mimetype": "text/x-python",
   "name": "python",
   "nbconvert_exporter": "python",
   "pygments_lexer": "ipython3",
   "version": "3.10.8"
  }
 },
 "nbformat": 4,
 "nbformat_minor": 5
}
