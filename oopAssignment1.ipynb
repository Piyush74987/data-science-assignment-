{
 "cells": [
  {
   "cell_type": "markdown",
   "id": "f2465241-218f-436f-b85f-7d1bce014573",
   "metadata": {},
   "source": [
    "## Q1. Explain Class and Object with respect to Object-Oriented Programming. Give a suitable example"
   ]
  },
  {
   "cell_type": "code",
   "execution_count": 1,
   "id": "0b673eba-659c-411c-9820-ea83115f4222",
   "metadata": {},
   "outputs": [
    {
     "name": "stdout",
     "output_type": "stream",
     "text": [
      "This is mammals animal and the agge of the animals is 20\n"
     ]
    }
   ],
   "source": [
    "# In oop the class is the blue print of object and the object is instance of the class class defines the particular type\n",
    "\n",
    "class animals :\n",
    "    age = 0\n",
    "    def __init__(self, type) :\n",
    "        self.__type = type \n",
    "        self.age = 20\n",
    "    def display (self):\n",
    "        \"\"\"This is the function for the display the type and age\"\"\"\n",
    "        print (f\"\"\"This is {self.__type} animal and the agge of the animals is {self.age}\"\"\")\n",
    "\n",
    "a1 =animals(\"mammals\")\n",
    "a1.display()"
   ]
  },
  {
   "cell_type": "markdown",
   "id": "a137b1f6-1713-470f-97a6-86853e6bdefe",
   "metadata": {},
   "source": [
    "## Q2. Name the four pillars of OOPs"
   ]
  },
  {
   "cell_type": "code",
   "execution_count": null,
   "id": "dc148023-ecfc-4659-9059-d97b8cd7dedb",
   "metadata": {},
   "outputs": [],
   "source": [
    "'''The four pillars of object-oriented programming (OOP) are:\n",
    "\n",
    "Encapsulation: bundling data and methods that operate on that data into a single unit, known as a class. It hides the internal details and\n",
    "implementation of an object from the outside world and provides access to the object's behavior through well-defined interfaces.\n",
    "\n",
    "Inheritance: Inheritance allows the creation of new classes based on existing classes. It enables code reuse and the creation of a\n",
    "hierarchical relationship between classes. A derived class (subclass) can inherit the attributes and methods of a base class\n",
    "(superclass) and can also add its own unique characteristics.\n",
    "\n",
    "Polymorphism: Polymorphism means the ability of an object to take on many forms. It allows objects of different classes to be treated\n",
    "as objects of a common superclass. Polymorphism enables methods to be defined in the superclass and overridden in the subclasses, \n",
    "allowing different implementations based on the specific objects being used.\n",
    "\n",
    "Abstraction: Abstraction involves the concept of simplifying complex systems by providing only essential details and hiding \n",
    "unnecessary complexity. It allows the creation of abstract classes and interfaces that define the common behavior and\n",
    "attributes for a group of related objects. Abstraction helps in managing complexity and building modular, reusable code.\n",
    "'''"
   ]
  },
  {
   "cell_type": "markdown",
   "id": "b7c7e5d3-623f-4a4c-92f7-0f2e79a6200c",
   "metadata": {},
   "source": [
    "## Q3. Explain why the init() function is used. Give a suitable example"
   ]
  },
  {
   "cell_type": "code",
   "execution_count": null,
   "id": "8dcbdeeb-48cf-4847-9473-e0ca630b91b8",
   "metadata": {},
   "outputs": [],
   "source": [
    "# ans -> It is spicial method of the class which get call as soon as the class is created is i\n",
    "\n",
    "#The __init__() function is a special method in Python classes that is automatically called when an object of the class is created.\n",
    "# It is used to initialize the attributes or properties of an object and perform any necessary setup or configuration.\n",
    "\n",
    "# The primary purpose of the __init__() method is to ensure that the object is in a valid and usable state after its creation.\n",
    "# It allows you to define default values for attributes, accept arguments to initialize specific attributes, and perform any other\n",
    "# initialization tasks required for the object to function correctly.\n",
    "\n",
    "# Here's an example to illustrate the usage of the __init__() method:\n",
    "\n",
    "class Person:\n",
    "    def __init__(self, name, age):\n",
    "        self.name = name\n",
    "        self.age = age\n",
    "\n",
    "    def introduce(self):\n",
    "        print(f\"Hello, my name is {self.name} and I am {self.age} years old.\")\n",
    "\n",
    "# Creating an instance of the Person class\n",
    "person1 = Person(\"Alice\", 25)\n",
    "\n",
    "# Accessing attributes and calling methods\n",
    "print(person1.name)  # Output: Alice\n",
    "print(person1.age)  # Output: 25\n",
    "person1.introduce()  # Output: Hello, my name is Alice and I am 25 years old.\n",
    "# In the above code, we define a Person class with an __init__() method. The __init__() method takes two parameters,\n",
    "# name and age, which are used to initialize the name and age attributes of the object.\n",
    "\n",
    "# When we create an instance of the Person class (person1), we pass the values \"Alice\" and 25 as arguments.\n",
    "# The __init__() method is automatically called, and the name and age attributes of person1 are set accordingly.\n",
    "\n",
    "# After the object is initialized, we can access the attributes (name and age) using dot notation (person1.name, person1.age).\n",
    "# We can also call the introduce() method on the person1 object to introduce themselves.\n",
    "\n",
    "# The __init__() method is crucial for ensuring that objects are properly initialized and ready to be used. \n",
    "# It helps to establish the initial state of an object and set up any necessary attributes or configurations."
   ]
  },
  {
   "cell_type": "markdown",
   "id": "03b65bec-e35f-4bee-aae2-5223ee61b48c",
   "metadata": {},
   "source": [
    "## Q4. Why self is used in OOPs?"
   ]
  },
  {
   "cell_type": "code",
   "execution_count": null,
   "id": "b25d08db-54e1-4bb3-9bd2-4dac417037eb",
   "metadata": {},
   "outputs": [],
   "source": [
    "'''In object-oriented programming (OOP), self is used as a convention to refer to the instance of a class within its methods.\n",
    "It acts as a reference to the current object or instance on which a method is being invoked.\n",
    "\n",
    "The self parameter is the first parameter of instance methods in Python classes. \n",
    "By convention, it is named self, but you can choose any name for it (although sticking to the convention is recommended).\n",
    "\n",
    "Here are a few reasons why self is used in OOP:\n",
    "\n",
    "Accessing Instance Attributes: Within a class method, self allows you to access the instance attributes (properties) of the object.\n",
    "It provides a way to refer to the specific instance on which the method is called, enabling access to the instance's data.\n",
    "\n",
    "Calling Other Instance Methods: self is used to call other instance methods within a class.\n",
    "It allows one method to invoke another method on the same instance, facilitating code organization and reusability.\n",
    "\n",
    "Differentiating Instance and Local Variables: self helps distinguish between instance variables (attributes) and local variables within \n",
    "a method. By using self, you can explicitly reference the instance variables and prevent them from being mistaken for local variables.\n",
    "\n",
    "Implicitly Passed During Method Invocation: When you call an instance method on an object, Python implicitly passes the instance itself as\n",
    "the first argument, which is captured by self. This allows the method to operate on the specific instance and its attributes.\n",
    "\n",
    "Here's a simple example to demonstrate the usage of self:'''\n",
    "\n",
    "class Person:\n",
    "    def __init__(self, name):\n",
    "        self.name = name\n",
    "\n",
    "    def greet(self):\n",
    "        print(f\"Hello, my name is {self.name}.\")\n",
    "\n",
    "# Creating an instance of the Person class\n",
    "person1 = Person(\"Alice\")\n",
    "\n",
    "# Calling the greet() method on the person1 object\n",
    "person1.greet()  # Output: Hello, my name is Alice.\n",
    "'''In the above code, self is used in the __init__() method to refer to the instance being created (person1).\n",
    "It allows us to assign the provided name argument to the name attribute of the instance.\n",
    "\n",
    "Later, self is used again in the greet() method to access the name attribute of the instance (self.name) and print a greeting message.\n",
    "\n",
    "By using self, you can work with the specific instance and its attributes within the methods of a class, \n",
    "enabling the encapsulation of data and behavior within objects in an object-oriented program.'''"
   ]
  },
  {
   "cell_type": "markdown",
   "id": "e2605448-1ffd-4484-be21-90732054219c",
   "metadata": {},
   "source": [
    "## Q5. What is inheritance? Give an example for each type of inheritance."
   ]
  },
  {
   "cell_type": "code",
   "execution_count": null,
   "id": "67f1bc23-05c4-4508-bfb2-5576e8bb4a51",
   "metadata": {},
   "outputs": [],
   "source": [
    "''' In object-oriented programming, inheritance is a mechanism that allows a class to inherit properties and behaviors from another class,\n",
    "known as the base or parent class. The class that inherits these properties and behaviors is called the derived or child class. \n",
    "Inheritance promotes code reusability and establishes a hierarchical relationship between classes.\n",
    "\n",
    "There are several types of inheritance:\n",
    "\n",
    "Single Inheritance: In single inheritance, a derived class inherits properties and behaviors from a single base class.\n",
    "Example: Consider a class hierarchy involving animals. The base class could be \"Animal,\" and a derived class could be \"Dog.\"\n",
    "The Dog class inherits characteristics such as \"name\" and \"age\" from the Animal class.\n",
    "\n",
    "Multiple Inheritance: Multiple inheritance occurs when a derived class inherits from more than one base class.\n",
    "This means the derived class incorporates properties and behaviors from multiple classes.\n",
    "Example: Let's say we have two base classes, \"Car\" and \"Radio.\" The derived class \"CarRadio\" can inherit properties from both classes,\n",
    "such as \"color\" and \"brand\" from Car, and \"frequency\" and \"volume\" from Radio.\n",
    "\n",
    "Multilevel Inheritance: Multilevel inheritance involves a chain of inheritance, where a derived class serves as the base class for\n",
    "another derived class. In this way, properties and behaviors can be inherited through multiple levels.\n",
    "Example: Suppose we have a base class called \"Shape,\" a derived class called \"Rectangle\" that inherits from Shape, and another derived\n",
    "class called \"Square\" that inherits from Rectangle. Square indirectly inherits properties and behaviors from Shape through the intermediate\n",
    "class, Rectangle.\n",
    "\n",
    "Hierarchical Inheritance: Hierarchical inheritance occurs when multiple derived classes inherit from a single base class. \n",
    "Each derived class inherits the properties and behaviors of the base class, creating a hierarchy of classes.\n",
    "Example: Consider a base class called \"Vehicle\" and two derived classes, \"Car\" and \"Motorcycle.\" Both Car and Motorcycle\n",
    "inherit properties like \"speed\" and \"fuel type\" from Vehicle.\n",
    "\n",
    "Hybrid Inheritance: Hybrid inheritance is a combination of multiple inheritance and hierarchical inheritance. It involves\n",
    "a mix of inheritance types, allowing classes to inherit properties and behaviors from multiple base classes in a hierarchical structure.\n",
    "Example: Suppose we have a base class called \"Animal\" and two derived classes, \"Mammal\" and \"Bird.\" Both Mammal and Bird \n",
    "inherit properties from Animal. Additionally, we have another class called \"FlyingBird\" that inherits from both Bird and Animal,\n",
    "demonstrating multiple inheritance.\n",
    "\n",
    "These examples illustrate different types of inheritance and how classes can inherit properties and behaviors from their\n",
    "parent classes based on the inheritance relationship. '''"
   ]
  }
 ],
 "metadata": {
  "kernelspec": {
   "display_name": "Python 3 (ipykernel)",
   "language": "python",
   "name": "python3"
  },
  "language_info": {
   "codemirror_mode": {
    "name": "ipython",
    "version": 3
   },
   "file_extension": ".py",
   "mimetype": "text/x-python",
   "name": "python",
   "nbconvert_exporter": "python",
   "pygments_lexer": "ipython3",
   "version": "3.10.8"
  }
 },
 "nbformat": 4,
 "nbformat_minor": 5
}
