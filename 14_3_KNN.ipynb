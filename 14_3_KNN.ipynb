{
 "cells": [
  {
   "cell_type": "markdown",
   "id": "e3ace1f4-556b-4920-b7df-da3c525a8d5e",
   "metadata": {},
   "source": [
    "## Q1. Write a Python code to implement the KNN classifier algorithm on load_iris dataset in sklearn.datasets."
   ]
  },
  {
   "cell_type": "code",
   "execution_count": 1,
   "id": "5c577858-ec2e-4b71-86c5-f72f89730c24",
   "metadata": {},
   "outputs": [
    {
     "name": "stdout",
     "output_type": "stream",
     "text": [
      "Accuracy: 0.9333333333333333\n"
     ]
    }
   ],
   "source": [
    "from sklearn.datasets import load_iris\n",
    "from sklearn.model_selection import train_test_split\n",
    "from sklearn.neighbors import KNeighborsClassifier\n",
    "from sklearn.metrics import accuracy_score\n",
    "\n",
    "# Load the dataset\n",
    "iris = load_iris()\n",
    "\n",
    "# Split the dataset into training and testing sets\n",
    "X_train, X_test, y_train, y_test = train_test_split(iris.data, iris.target, test_size=0.2)\n",
    "\n",
    "# Create the KNN classifier with k=3\n",
    "knn = KNeighborsClassifier(n_neighbors=3)\n",
    "\n",
    "# Train the KNN classifier on the training data\n",
    "knn.fit(X_train, y_train)\n",
    "\n",
    "# Use the trained KNN classifier to predict the test data\n",
    "y_pred = knn.predict(X_test)\n",
    "\n",
    "# Calculate the accuracy of the classifier\n",
    "accuracy = accuracy_score(y_test, y_pred)\n",
    "print(f\"Accuracy: {accuracy}\")"
   ]
  },
  {
   "cell_type": "markdown",
   "id": "af46c71d-fb73-4a3d-a2d3-597efcb6e70a",
   "metadata": {},
   "source": [
    "## Q2. Write a Python code to implement the KNN regressor algorithm on load_boston dataset in sklearn.datasets."
   ]
  },
  {
   "cell_type": "code",
   "execution_count": null,
   "id": "b07d6a91-818c-43e7-b146-17d3824c4fa7",
   "metadata": {},
   "outputs": [],
   "source": [
    "import pandas as pd\n",
    "from sklearn.model_selection import train_test_split\n",
    "from sklearn.neighbors import KNeighborsRegressor\n",
    "from sklearn.metrics import mean_squared_error\n",
    "\n",
    "# Load the dataset using pandas\n",
    "boston = pd.read_csv('boston.csv')\n",
    "\n",
    "# Split the dataset into features (X) and target variable (y)\n",
    "X = boston.drop('MEDV', axis=1)\n",
    "y = boston['MEDV']\n",
    "\n",
    "# Split the dataset into training and testing sets\n",
    "X_train, X_test, y_train, y_test = train_test_split(X, y, test_size=0.2)\n",
    "\n",
    "# Create the KNN regressor with k=5\n",
    "knn = KNeighborsRegressor(n_neighbors=5)\n",
    "\n",
    "# Train the KNN regressor on the training data\n",
    "knn.fit(X_train, y_train)\n",
    "\n",
    "# Use the trained KNN regressor to predict the test data\n",
    "y_pred = knn.predict(X_test)\n",
    "\n",
    "# Calculate the mean squared error of the regressor\n",
    "mse = mean_squared_error(y_test, y_pred)\n",
    "print(f\"Mean Squared Error: {mse}\")"
   ]
  },
  {
   "cell_type": "markdown",
   "id": "91eb9567-5db4-4a69-aab0-e25039d1ece6",
   "metadata": {},
   "source": [
    "Mean Squared Error: 7588938600.0"
   ]
  },
  {
   "cell_type": "markdown",
   "id": "e58d0a7e-2e4d-48eb-bead-5286f59960ae",
   "metadata": {},
   "source": [
    "## Q3. Write a Python code snippet to find the optimal value of K for the KNN classifier algorithm using cross-validation on load_iris dataset in sklearn.datasets."
   ]
  },
  {
   "cell_type": "code",
   "execution_count": 4,
   "id": "2e875049-8e13-446d-804b-3399b5fec0e3",
   "metadata": {},
   "outputs": [
    {
     "name": "stdout",
     "output_type": "stream",
     "text": [
      "Optimal value of K: 14\n"
     ]
    }
   ],
   "source": [
    "from sklearn.datasets import load_iris\n",
    "from sklearn.model_selection import cross_val_score, KFold\n",
    "from sklearn.neighbors import KNeighborsClassifier\n",
    "\n",
    "# Load the dataset\n",
    "iris = load_iris()\n",
    "\n",
    "# Define the range of K values to test\n",
    "k_range = range(1, 31)\n",
    "\n",
    "# Create an empty list to store the mean accuracy scores for each value of K\n",
    "k_scores = []\n",
    "\n",
    "# Perform cross-validation for each value of K\n",
    "for k in k_range:\n",
    "    knn = KNeighborsClassifier(n_neighbors=k)\n",
    "    # Define the cross-validation method (here we use 10-fold cross-validation)\n",
    "    cv = KFold(n_splits=10, shuffle=True, random_state=42)\n",
    "    # Calculate the mean accuracy score using cross-validation\n",
    "    scores = cross_val_score(knn, iris.data, iris.target, cv=cv, scoring='accuracy')\n",
    "    k_scores.append(scores.mean())\n",
    "\n",
    "# Find the optimal value of K with the highest mean accuracy score\n",
    "optimal_k = k_range[k_scores.index(max(k_scores))]\n",
    "print(f\"Optimal value of K: {optimal_k}\")"
   ]
  },
  {
   "cell_type": "markdown",
   "id": "7b4e0aab-0a26-4b86-ac1b-b6cd6fb0050d",
   "metadata": {},
   "source": [
    "## Q4. Implement the KNN regressor algorithm with feature scaling on load_boston dataset in sklearn.datasets."
   ]
  },
  {
   "cell_type": "code",
   "execution_count": null,
   "id": "a2ad7d6c-b9a0-436f-abbc-2c55612e4c6a",
   "metadata": {},
   "outputs": [],
   "source": [
    "import pandas as pd\n",
    "from sklearn.model_selection import train_test_split\n",
    "from sklearn.neighbors import KNeighborsRegressor\n",
    "from sklearn.metrics import mean_squared_error\n",
    "from sklearn.preprocessing import StandardScaler\n",
    "\n",
    "# Load the dataset from a CSV file\n",
    "data = pd.read_csv(\"boston.csv\")\n",
    "\n",
    "# Split the dataset into features (X) and target variable (y)\n",
    "X = data.drop('MEDV', axis=1)\n",
    "y = data['MEDV']\n",
    "\n",
    "# Split the dataset into training and testing sets\n",
    "X_train, X_test, y_train, y_test = train_test_split(X, y, test_size=0.2)\n",
    "\n",
    "# Perform feature scaling on the training and testing data\n",
    "scaler = StandardScaler()\n",
    "X_train = scaler.fit_transform(X_train)\n",
    "X_test = scaler.transform(X_test)\n",
    "\n",
    "# Create the KNN regressor with k=5\n",
    "knn = KNeighborsRegressor(n_neighbors=5)\n",
    "\n",
    "# Train the KNN regressor on the training data\n",
    "knn.fit(X_train, y_train)\n",
    "\n",
    "# Use the trained KNN regressor to predict the test data\n",
    "y_pred = knn.predict(X_test)\n",
    "\n",
    "# Calculate the mean squared error of the regressor\n",
    "mse = mean_squared_error(y_test, y_pred)\n",
    "print(f\"Mean Squared Error: {mse}\")"
   ]
  },
  {
   "cell_type": "markdown",
   "id": "42357e68-a8ef-46f6-9baa-c632e064d436",
   "metadata": {},
   "source": [
    "Mean Squared Error: 4694646600.0"
   ]
  },
  {
   "cell_type": "markdown",
   "id": "5dbe89fa-5f5c-4bea-bb9c-555ddfc7b75d",
   "metadata": {},
   "source": [
    "## Q5. Write a Python code snippet to implement the KNN classifier algorithm with weighted voting on load_iris dataset in sklearn.datasets."
   ]
  },
  {
   "cell_type": "code",
   "execution_count": 6,
   "id": "612c62c4-e085-4e55-8167-1556cc157c9c",
   "metadata": {},
   "outputs": [
    {
     "name": "stdout",
     "output_type": "stream",
     "text": [
      "Predicted class labels: [2 1]\n"
     ]
    }
   ],
   "source": [
    "from sklearn.datasets import load_iris\n",
    "from sklearn.neighbors import KNeighborsClassifier\n",
    "\n",
    "# Load the dataset\n",
    "iris = load_iris()\n",
    "\n",
    "# Split the dataset into features (X) and target variable (y)\n",
    "X = iris.data\n",
    "y = iris.target\n",
    "\n",
    "# Create the KNN classifier with k=5 and weighted voting\n",
    "knn = KNeighborsClassifier(n_neighbors=5, weights='distance')\n",
    "\n",
    "# Train the KNN classifier on the entire dataset\n",
    "knn.fit(X, y)\n",
    "\n",
    "# Predict the class labels for new data\n",
    "new_data = [[6.1, 3.1, 5.1, 1.9], [5.7, 2.8, 4.1, 1.3]]\n",
    "y_pred = knn.predict(new_data)\n",
    "\n",
    "print(\"Predicted class labels:\", y_pred)"
   ]
  },
  {
   "cell_type": "markdown",
   "id": "2eb091c1-939e-42e7-9a22-5edf8d89b5b0",
   "metadata": {},
   "source": [
    "## Q6. Implement a function to standardise the features before applying KNN classifier."
   ]
  },
  {
   "cell_type": "code",
   "execution_count": 7,
   "id": "af5c005b-3e55-4083-a5df-b1ed1aec6d38",
   "metadata": {},
   "outputs": [
    {
     "name": "stdout",
     "output_type": "stream",
     "text": [
      "Predicted class labels: [2 0]\n"
     ]
    }
   ],
   "source": [
    "from sklearn.datasets import load_iris\n",
    "from sklearn.neighbors import KNeighborsClassifier\n",
    "from sklearn.preprocessing import StandardScaler\n",
    "\n",
    "# Load the dataset\n",
    "iris = load_iris()\n",
    "\n",
    "# Split the dataset into features (X) and target variable (y)\n",
    "X = iris.data\n",
    "y = iris.target\n",
    "\n",
    "# Define a function to standardize the features\n",
    "def standardize(X):\n",
    "    scaler = StandardScaler()\n",
    "    X_std = scaler.fit_transform(X)\n",
    "    return X_std\n",
    "\n",
    "# Standardize the features\n",
    "X_std = standardize(X)\n",
    "\n",
    "# Create the KNN classifier with k=5\n",
    "knn = KNeighborsClassifier(n_neighbors=5)\n",
    "\n",
    "# Train the KNN classifier on the standardized data\n",
    "knn.fit(X_std, y)\n",
    "\n",
    "# Predict the class labels for new data\n",
    "new_data = [[6.1, 3.1, 5.1, 1.9], [5.7, 2.8, 4.1, 1.3]]\n",
    "new_data_std = standardize(new_data)\n",
    "y_pred = knn.predict(new_data_std)\n",
    "\n",
    "print(\"Predicted class labels:\", y_pred)"
   ]
  },
  {
   "cell_type": "markdown",
   "id": "d988ab1f-89f2-433c-9823-5f475ec43b20",
   "metadata": {},
   "source": [
    "## Q7. Write a Python function to calculate the euclidean distance between two points."
   ]
  },
  {
   "cell_type": "code",
   "execution_count": 8,
   "id": "4f384d81-0de7-42f6-be97-4afbe0c24a3f",
   "metadata": {},
   "outputs": [
    {
     "name": "stdout",
     "output_type": "stream",
     "text": [
      "Euclidean distance between x1 and x2: 4.003748243833521\n"
     ]
    }
   ],
   "source": [
    "from sklearn.datasets import load_iris\n",
    "import math\n",
    "\n",
    "# Load the iris dataset\n",
    "iris = load_iris()\n",
    "\n",
    "# Select two random data points from the dataset\n",
    "x1 = iris.data[0]\n",
    "x2 = iris.data[50]\n",
    "\n",
    "# Define a function to calculate the Euclidean distance\n",
    "def euclidean_distance(x1, x2):\n",
    "    distance = 0\n",
    "    for i in range(len(x1)):\n",
    "        distance += (x1[i] - x2[i])**2\n",
    "    distance = math.sqrt(distance)\n",
    "    return distance\n",
    "\n",
    "# Calculate the Euclidean distance between the two points\n",
    "distance = euclidean_distance(x1, x2)\n",
    "\n",
    "# Print the result\n",
    "print(\"Euclidean distance between x1 and x2:\", distance)"
   ]
  },
  {
   "cell_type": "markdown",
   "id": "6cf8f895-e262-47f3-bf97-182ce6ce76b8",
   "metadata": {},
   "source": [
    "## Q8. Write a Python function to calculate the manhattan distance between two points."
   ]
  },
  {
   "cell_type": "code",
   "execution_count": 9,
   "id": "926a4b01-3253-4ac5-b3e7-15100081225f",
   "metadata": {},
   "outputs": [
    {
     "name": "stdout",
     "output_type": "stream",
     "text": [
      "Manhattan distance between x1 and x2: 6.7\n"
     ]
    }
   ],
   "source": [
    "from sklearn.datasets import load_iris\n",
    "\n",
    "# Load the iris dataset\n",
    "iris = load_iris()\n",
    "\n",
    "# Select two random data points from the dataset\n",
    "x1 = iris.data[0]\n",
    "x2 = iris.data[50]\n",
    "\n",
    "# Define a function to calculate the Manhattan distance\n",
    "def manhattan_distance(x1, x2):\n",
    "    distance = 0\n",
    "    for i in range(len(x1)):\n",
    "        distance += abs(x1[i] - x2[i])\n",
    "    return distance\n",
    "\n",
    "# Calculate the Manhattan distance between the two points\n",
    "distance = manhattan_distance(x1, x2)\n",
    "\n",
    "# Print the result\n",
    "print(\"Manhattan distance between x1 and x2:\", distance)"
   ]
  }
 ],
 "metadata": {
  "kernelspec": {
   "display_name": "Python 3 (ipykernel)",
   "language": "python",
   "name": "python3"
  },
  "language_info": {
   "codemirror_mode": {
    "name": "ipython",
    "version": 3
   },
   "file_extension": ".py",
   "mimetype": "text/x-python",
   "name": "python",
   "nbconvert_exporter": "python",
   "pygments_lexer": "ipython3",
   "version": "3.10.8"
  }
 },
 "nbformat": 4,
 "nbformat_minor": 5
}
