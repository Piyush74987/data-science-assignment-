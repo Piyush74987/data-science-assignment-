{
 "cells": [
  {
   "cell_type": "code",
   "execution_count": 5,
   "id": "d2ea3c1e-aa54-4a96-9b9f-c81c9b72906a",
   "metadata": {},
   "outputs": [
    {
     "name": "stdin",
     "output_type": "stream",
     "text": [
      "Enter your Marks 93\n"
     ]
    },
    {
     "name": "stdout",
     "output_type": "stream",
     "text": [
      "The Grade is A\n"
     ]
    }
   ],
   "source": [
    "# Q1 Write a program to accept percentage from the user and display the grade according to the following\n",
    "\n",
    "marks=int(input(\"Enter your Marks\"))\n",
    "\n",
    "if marks>90:\n",
    "    print(\"The Grade is A\")\n",
    "elif marks>80 and marks<=90:\n",
    "    print(\"The Grade is B\")\n",
    "elif marks>=60 and marks<=80:\n",
    "     print(\"The Grade is C\")\n",
    "else:\n",
    "    print(\"The Grade is D\")\n",
    "    "
   ]
  },
  {
   "cell_type": "code",
   "execution_count": 9,
   "id": "a2da59ef-db55-4757-9282-8e7c446cd63f",
   "metadata": {},
   "outputs": [
    {
     "name": "stdin",
     "output_type": "stream",
     "text": [
      "Enter the price of your Bike 60000\n"
     ]
    },
    {
     "name": "stdout",
     "output_type": "stream",
     "text": [
      "The road tax is 10% the tax for your bike will be 6000.0\n"
     ]
    }
   ],
   "source": [
    "# Q2 Write a program to accept the cost price of a bike and display the road tax to be paid according to the  following criteria: \n",
    "\n",
    "bike_price=int(input(\"Enter the price of your Bike\"))\n",
    "\n",
    "if bike_price>100000:\n",
    "    print(\"The road tax is 15% the tax for your bike will be {a}\".format(a=bike_price*15/100))\n",
    "elif bike_price>50000 and bike_price<=100000:\n",
    "     print(\"The road tax is 10% the tax for your bike will be {a}\".format(a=bike_price*10/100))\n",
    "else:\n",
    "     print(\"The road tax is 5% the tax for your bike will be {a}\".format(a=bike_price*5/100))\n"
   ]
  },
  {
   "cell_type": "code",
   "execution_count": 2,
   "id": "04dc13b3-4ca1-479e-9ea0-9a361b7bb73c",
   "metadata": {},
   "outputs": [
    {
     "name": "stdin",
     "output_type": "stream",
     "text": [
      "Enter the city Name  japiur\n"
     ]
    },
    {
     "name": "stdout",
     "output_type": "stream",
     "text": [
      "The monument is JAL MAHAL\n"
     ]
    }
   ],
   "source": [
    "# Q3  Accept any city from the user and display monuments of that city. \n",
    "\n",
    "\n",
    "City=input(\"Enter the city Name \")\n",
    "city=City.upper()\n",
    "\n",
    "if city==\"DELHI\":\n",
    "    print(\"The monument is RED FORT\")\n",
    "elif city==\"AGRA\":\n",
    "    print(\"The monument is TAJ MAHAL\")\n",
    "elif city==\"JAPIUR\":\n",
    "    print(\"The monument is JAL MAHAL\")\n",
    "else:\n",
    "    print(\"The city information is not there\")\n",
    "    "
   ]
  },
  {
   "cell_type": "code",
   "execution_count": 5,
   "id": "0dc5da67-2b43-4be0-9ea3-8f91ab334ba4",
   "metadata": {},
   "outputs": [
    {
     "name": "stdout",
     "output_type": "stream",
     "text": [
      "1\n",
      "2\n",
      "3\n",
      "4\n",
      "5\n",
      "6\n",
      "7\n"
     ]
    }
   ],
   "source": [
    "# Q4 Check how many times a given number can be divided by 3 before it is less than or equal to 10. \n",
    "\n",
    "i=30\n",
    "count=0\n",
    "\n",
    "while i>10:\n",
    "    i-=3\n",
    "    count+=1\n",
    "    print(count)\n"
   ]
  },
  {
   "cell_type": "code",
   "execution_count": 6,
   "id": "978c10d0-0baa-4066-b78f-004785f4a68f",
   "metadata": {},
   "outputs": [
    {
     "name": "stdout",
     "output_type": "stream",
     "text": [
      "2\n",
      "4\n",
      "6\n",
      "8\n",
      "10\n",
      "12\n",
      "14\n",
      "16\n",
      "18\n",
      "20\n",
      "22\n"
     ]
    }
   ],
   "source": [
    "# Q5 Why and When to Use while Loop in Python give a detailed description with example \n",
    "\n",
    "'''The main function of a while loop in python is to repeatedly execute a block of code statements as long as the test\n",
    "condition/expression is satisfied(true). The next line in the program will only be executed once the test condition/expression\n",
    "becomes false.'''\n",
    "\n",
    "# example\n",
    "\n",
    "i=0\n",
    "\n",
    "while i<=20:\n",
    "    i+=2\n",
    "    print(i)"
   ]
  },
  {
   "cell_type": "code",
   "execution_count": 8,
   "id": "6778d3b9-bf0c-4ecc-aa78-3bc9e3e6872a",
   "metadata": {},
   "outputs": [
    {
     "name": "stdout",
     "output_type": "stream",
     "text": [
      "1 \n",
      "1 2 \n",
      "1 2 3 \n",
      "1 2 3 4 \n",
      "1 2 3 4 5 \n"
     ]
    }
   ],
   "source": [
    "# Q6  Use nested while loop to print 3 different pattern\n",
    "\n",
    "\n",
    "i=1\n",
    "while i<=5:\n",
    "    j=1\n",
    "    while j<=i:\n",
    "        print(j,end=\" \")\n",
    "        j=j+1\n",
    "    print(\"\")\n",
    "    i=i+1\n"
   ]
  },
  {
   "cell_type": "code",
   "execution_count": 10,
   "id": "15a8d145-af18-43eb-99a9-8aa4529fe002",
   "metadata": {},
   "outputs": [
    {
     "name": "stdout",
     "output_type": "stream",
     "text": [
      "10\n",
      "9\n",
      "8\n",
      "7\n",
      "6\n",
      "5\n",
      "4\n",
      "3\n",
      "2\n",
      "1\n",
      "0\n"
     ]
    }
   ],
   "source": [
    "# Q7  Reverse a while loop to display numbers from 10 to 1. \n",
    "\n",
    "num=11\n",
    "\n",
    "while num>=1:\n",
    "    num-=1\n",
    "    print(num)\n",
    "     "
   ]
  },
  {
   "cell_type": "code",
   "execution_count": null,
   "id": "1f0f151e-91ee-44e7-87dd-c845d4e41c16",
   "metadata": {},
   "outputs": [],
   "source": []
  }
 ],
 "metadata": {
  "kernelspec": {
   "display_name": "Python 3 (ipykernel)",
   "language": "python",
   "name": "python3"
  },
  "language_info": {
   "codemirror_mode": {
    "name": "ipython",
    "version": 3
   },
   "file_extension": ".py",
   "mimetype": "text/x-python",
   "name": "python",
   "nbconvert_exporter": "python",
   "pygments_lexer": "ipython3",
   "version": "3.10.8"
  }
 },
 "nbformat": 4,
 "nbformat_minor": 5
}
