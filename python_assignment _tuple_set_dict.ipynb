{
 "cells": [
  {
   "cell_type": "code",
   "execution_count": 2,
   "id": "277a2922-236b-41b6-a251-acde2a83173e",
   "metadata": {},
   "outputs": [],
   "source": [
    "# Q1. What are the characteristics of the tuples? Is tuple immutable?\n",
    "\n",
    "\"\"\"A tuple is a sequence of values much like a list. The values stored in a tuple can be any type, and they are indexed by integers.\n",
    "The important difference is that tuples are immutable.\"\"\""
   ]
  },
  {
   "cell_type": "code",
   "execution_count": 9,
   "id": "e32ab54b-12ca-493a-8404-a7e8d67d3550",
   "metadata": {},
   "outputs": [
    {
     "name": "stdout",
     "output_type": "stream",
     "text": [
      "------------------------------\n"
     ]
    },
    {
     "data": {
      "text/plain": [
       "7"
      ]
     },
     "execution_count": 9,
     "metadata": {},
     "output_type": "execute_result"
    }
   ],
   "source": [
    "# Q2 What are the two tuple methods in python? Give an example of each method. Give a reason why tuples have only two in-built methods as compared to Lists\n",
    "\n",
    "\"\"\"1] In Python, tuples are immutable sequences, meaning their elements cannot be modified once created. Tuples have two built-in methods:\n",
    "\n",
    "count(): The count() method returns the number of occurrences of a specified element in a tuple.\"\"\"\n",
    "\n",
    "\"\"\"2] index(): The index() method returns the index of the first occurrence of a specified element in a tuple.\"\"\"\n",
    "\n",
    "\n",
    "# example \n",
    "\n",
    "t1=(1,2,3,4,4,4,4,5,6)\n",
    "s=t1.count(4)\n",
    "print(\"------------------------------\")\n",
    "t1.index(5)\n"
   ]
  },
  {
   "cell_type": "code",
   "execution_count": 10,
   "id": "c74a9ffc-eadf-46d4-a752-0fd833b5550b",
   "metadata": {},
   "outputs": [
    {
     "data": {
      "text/plain": [
       "4"
      ]
     },
     "execution_count": 10,
     "metadata": {},
     "output_type": "execute_result"
    }
   ],
   "source": [
    "s"
   ]
  },
  {
   "cell_type": "code",
   "execution_count": 13,
   "id": "f4d3ae75-2913-479e-82e3-6d5215818621",
   "metadata": {},
   "outputs": [
    {
     "data": {
      "text/plain": [
       "[1, 2, 3, 4]"
      ]
     },
     "execution_count": 13,
     "metadata": {},
     "output_type": "execute_result"
    }
   ],
   "source": [
    "#Q3. Which collection datatypes in python do not allow duplicate items? Write a code using a set to remove duplicates from the given list.\n",
    "# List = [1, 1, 1, 2, 1, 3, 1, 4, 2, 1, 2, 2, 2, 3, 2, 4, 3, 1, 3, 2, 3, 3, 3, 4, 4, 1, 4, 2, 4, 3, 4, 4]\n",
    "\n",
    "\"\"\"set doesnt allow duplication of elements\"\"\"\n",
    "\n",
    "L = [1, 1, 1, 2, 1, 3, 1, 4, 2, 1, 2, 2, 2, 3, 2, 4, 3, 1, 3, 2, 3, 3, 3, 4, 4, 1, 4, 2, 4, 3, 4, 4]\n",
    "    \n",
    "s=set(L)\n",
    "list(s)"
   ]
  },
  {
   "cell_type": "code",
   "execution_count": null,
   "id": "05e6e82d-62ae-4ad7-8846-960adf3a6b0f",
   "metadata": {},
   "outputs": [],
   "source": [
    "# Q4. Explain the difference between the union() and update() methods for a set. Give an example of each method."
   ]
  },
  {
   "cell_type": "markdown",
   "id": "22c0de1d-eb29-4360-9fd7-f524647175eb",
   "metadata": {},
   "source": [
    "In Python, both the union() and update() methods are used to combine sets. However, they differ in how they modify the sets involved and how they handle duplicate elements.\n",
    "\n",
    "union() Method:\n",
    "The union() method returns a new set that contains all the unique elements from both sets.\n",
    "It does not modify the original sets but instead creates a new set with the combined elements.\n",
    "Duplicate elements are automatically removed in the resulting set.\n",
    "The union() method can also take multiple sets as arguments.\n",
    "\n",
    "update() Method:\n",
    "The update() method modifies the original set by adding elements from another set or an iterable.\n",
    "It performs an in-place update, meaning it directly modifies the set on which the method is called.\n",
    "Duplicate elements are automatically removed during the update process."
   ]
  },
  {
   "cell_type": "code",
   "execution_count": 14,
   "id": "b2566df5-acae-4401-ad75-8bd4dd8cc9d3",
   "metadata": {},
   "outputs": [
    {
     "name": "stdout",
     "output_type": "stream",
     "text": [
      "{1, 3, 4, 7}\n",
      "{1, 3, 4, 5, 7, 9}\n"
     ]
    }
   ],
   "source": [
    "# example union set\n",
    "set1 = {1, 4, 3}\n",
    "set2 = {3, 7, 3}\n",
    "set3 = {5, 9, 7}\n",
    "\n",
    "s_set = set1.union(set2)\n",
    "print(s_set) \n",
    "\n",
    "m_set = set1.union(set2, set3)\n",
    "print(m_set) "
   ]
  },
  {
   "cell_type": "code",
   "execution_count": 15,
   "id": "56348064-298c-4b61-b1bf-cdb1cd3141d5",
   "metadata": {},
   "outputs": [
    {
     "name": "stdout",
     "output_type": "stream",
     "text": [
      "{1, 2, 3, 4, 5}\n"
     ]
    }
   ],
   "source": [
    "# example of update\n",
    "\n",
    "set1 = {1, 2, 3}\n",
    "set2 = {3, 4, 5}\n",
    "\n",
    "set1.update(set2)\n",
    "print(set1) "
   ]
  },
  {
   "cell_type": "code",
   "execution_count": null,
   "id": "61ee49a4-cf0b-4774-acc0-0f89ef614269",
   "metadata": {},
   "outputs": [],
   "source": [
    "# Q5. What is a dictionary? Give an example. Also, state whether a dictionary is ordered or unordered.\n",
    "\n",
    "\"\"\"In Python, a dictionary is a built-in data type that represents a collection of key-value pairs. It is also known as an associative\n",
    "array or a hash map. Dictionaries are enclosed in curly braces {}, and each key-value pair is separated by a colon :. The keys within a\n",
    "dictionary must be unique, and they are used to access the corresponding values.\"\"\"\n",
    "\n",
    "student = {\n",
    "    \"name\": \"Messi\",\n",
    "    \"age\": 21,\n",
    "    \"major\": \"Computer Science\",\n",
    "    \"GPA\": 8.5\n",
    "}\n",
    "\n",
    "\n",
    "\"\"\"Regarding the order of elements in a dictionary, prior to Python 3.7, dictionaries were unordered. However, starting from Python 3.7,\n",
    "the insertion order of key-value pairs is preserved in dictionaries. This means that when you iterate over a dictionary or retrieve its\n",
    "keys or values, you can expect the elements to be in the same order as they were inserted. It's important to note that dictionary keys\n",
    "themselves do not have an inherent order.\n",
    "\n",
    "If you modify a dictionary (add, remove, or modify key-value pairs), the order may change. If you require a specific order for your\n",
    "dictionary, you can use the collections.OrderedDict class.\"\"\""
   ]
  },
  {
   "cell_type": "code",
   "execution_count": null,
   "id": "d133c0f4-9faa-4fbe-8602-88b092ba8965",
   "metadata": {},
   "outputs": [],
   "source": [
    "# Q6 Can we create a nested dictionary? If so, please give an example by creating a simple one-level nested dictionary.\n",
    "\n",
    "\n",
    "\n",
    "\"\"\"Yes, it is possible to create a nested dictionary in Python. A nested dictionary is a dictionary that contains another dictionary as its value\n",
    "or values. This allows for creating a hierarchical structure to store and access data\"\"\"\n",
    "\n",
    "\n",
    "student = {\n",
    "    \"name\": \"Messi\",\n",
    "    \"age\": 21,\n",
    "    \"grades\": {\n",
    "        \"math\": 90,\n",
    "        \"science\": 85,\n",
    "        \"history\": 95\n",
    "    },\n",
    "    \"address\": {\n",
    "        \"street\": \"Fc Road\",\n",
    "        \"city\": \"MUMBAI\",\n",
    "        \"country\": \"India\"\n",
    "    }\n",
    "}"
   ]
  },
  {
   "cell_type": "code",
   "execution_count": 16,
   "id": "2ffbf4c5-72ef-4b53-ac43-f7f9c23df8cd",
   "metadata": {},
   "outputs": [
    {
     "name": "stdout",
     "output_type": "stream",
     "text": [
      "{'language': 'Python', 'course': 'Data Science Masters', 'topics': ['Python', 'Machine Learning', 'Deep Learning']}\n"
     ]
    }
   ],
   "source": [
    "# Q7  Q7. Using setdefault() method, create key named topics in the given dictionary and also add the value of\n",
    "# the key as this list ['Python', 'Machine Learning’, 'Deep Learning']\n",
    "# dict1 = {'language' : 'Python', 'course': 'Data Science Masters'}\n",
    "\n",
    "\n",
    "\"\"\"To create a key named \"topics\" in the given dictionary dict1 using the setdefault() method and add the value as the list\n",
    "['Python', 'Machine Learning', 'Deep Learning'], you can use the following code:\"\"\"\n",
    "\n",
    "dict1 = {'language': 'Python', 'course': 'Data Science Masters'}\n",
    "dict1.setdefault('topics', ['Python', 'Machine Learning', 'Deep Learning'])\n",
    "\n",
    "print(dict1)\n",
    "\n",
    "\"\"\"In the code above, the setdefault() method is called on the dict1 dictionary with the key \"topics\" and a default value of\n",
    "['Python', 'Machine Learning', 'Deep Learning']. Since \"topics\" is not already present in the dictionary, setdefault() will add it with the \n",
    "specified list as its value. If the key already exists, the method will simply return the current value associated with the key without \n",
    "modifying the dictionary.\"\"\""
   ]
  },
  {
   "cell_type": "code",
   "execution_count": 17,
   "id": "19bbab18-bedd-4d1e-a5f0-6549e1f6a8d3",
   "metadata": {},
   "outputs": [
    {
     "name": "stdout",
     "output_type": "stream",
     "text": [
      "dict_keys(['Sport', 'Teams'])\n",
      "dict_values(['Cricket', ['India', 'Australia', 'England', 'South Africa', 'Sri Lanka', 'New Zealand']])\n",
      "dict_items([('Sport', 'Cricket'), ('Teams', ['India', 'Australia', 'England', 'South Africa', 'Sri Lanka', 'New Zealand'])])\n"
     ]
    }
   ],
   "source": [
    "# Q8 Q8. What are the three view objects in dictionaries? Use the three in-built methods in python to display\n",
    "# these three view objects for the given dictionary.\n",
    "# dict1 = {'Sport': 'Cricket' , 'Teams': ['India', 'Australia', 'England', 'South Africa', 'Sri Lanka', 'New Zealand']}\n",
    "\n",
    "\"\"\"In Python, dictionaries provide three view objects that allow you to access different aspects of the dictionary:\n",
    "\n",
    "1)keys() view object: It returns a view object containing all the keys of the dictionary.\n",
    "\n",
    "2)values() view object: It returns a view object containing all the values of the dictionary.\n",
    "\n",
    "3) items() view object: It returns a view object containing all the key-value pairs (items) of the dictionary as tuples.\"\"\"\n",
    "\n",
    "\n",
    "dict1 = {'Sport': 'Cricket', 'Teams': ['India', 'Australia', 'England', 'South Africa', 'Sri Lanka', 'New Zealand']}\n",
    "\n",
    "# Display the keys view object\n",
    "keys_view = dict1.keys()\n",
    "print(keys_view) \n",
    "\n",
    "# Display the values view object\n",
    "values_view = dict1.values()\n",
    "print(values_view)\n",
    "\n",
    "# Display the items view object\n",
    "items_view = dict1.items()\n",
    "print(items_view)"
   ]
  },
  {
   "cell_type": "code",
   "execution_count": null,
   "id": "4150d5ea-7fc5-400a-ac81-6588a599cef8",
   "metadata": {},
   "outputs": [],
   "source": []
  }
 ],
 "metadata": {
  "kernelspec": {
   "display_name": "Python 3 (ipykernel)",
   "language": "python",
   "name": "python3"
  },
  "language_info": {
   "codemirror_mode": {
    "name": "ipython",
    "version": 3
   },
   "file_extension": ".py",
   "mimetype": "text/x-python",
   "name": "python",
   "nbconvert_exporter": "python",
   "pygments_lexer": "ipython3",
   "version": "3.10.8"
  }
 },
 "nbformat": 4,
 "nbformat_minor": 5
}
