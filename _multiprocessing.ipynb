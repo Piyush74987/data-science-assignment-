{
 "cells": [
  {
   "cell_type": "markdown",
   "id": "1f82e7e1-c389-44a5-ae29-dcebf84e459c",
   "metadata": {},
   "source": [
    "## Q1. What is multiprocessing in python? Why is it useful?"
   ]
  },
  {
   "cell_type": "code",
   "execution_count": null,
   "id": "1b1d2e54-a2e8-4c1b-bd82-43fb3a72ca5b",
   "metadata": {},
   "outputs": [],
   "source": [
    "'''Multiprocessing in Python refers to the ability of a program to create and execute multiple processes concurrently.\n",
    "A process is an independent unit of execution that runs in its memory space, separate from other processes. \n",
    "Each process can have its own Python interpreter, allowing for true parallelism, unlike multithreading, \n",
    "which is limited by the Global Interpreter Lock (GIL).\n",
    "\n",
    "In Python, the \"multiprocessing\" module provides a high-level interface for creating and managing multiple processes.\n",
    "It allows you to take advantage of multiple CPU cores and distribute workload across them, leading to improved performance and\n",
    "efficient utilization of resources.\n",
    "\n",
    "The \"multiprocessing\" module is useful for several reasons:\n",
    "\n",
    "True Parallelism: Unlike multithreading, multiprocessing allows for true parallel execution of tasks, as each process runs \n",
    "independently in its memory space. This is particularly beneficial for CPU-bound tasks, where performance gains can be significant.\n",
    "\n",
    "Utilizing Multiple Cores: With multiprocessing, you can leverage the power of modern multi-core processors. By running processes \n",
    "on different cores, you can divide complex computations into smaller chunks and process them simultaneously, reducing overall \n",
    "processing time.\n",
    "\n",
    "Isolation and Stability: Each process operates independently, which means that if one process crashes or encounters an error, \n",
    "it does not affect other processes. This isolation enhances the stability and reliability of the overall program.\n",
    "\n",
    "Resource Sharing: Although processes run in separate memory spaces, the \"multiprocessing\" module provides mechanisms\n",
    "for sharing data between processes, such as pipes, queues, and shared memory. This allows for efficient communication and\n",
    "coordination between different processes.\n",
    "\n",
    "Avoiding GIL Limitations: Python's Global Interpreter Lock (GIL) restricts the execution of Python threads concurrently,\n",
    "limiting the benefits of multithreading for CPU-bound tasks. Multiprocessing sidesteps this limitation by using separate \n",
    "Python interpreters for each process.\n",
    "\n",
    "Scalability: Multiprocessing is scalable and can handle tasks of varying complexities. You can adjust the number of processes\n",
    "based on the available CPU cores and the nature of the workload.\n",
    "\n",
    "Overall, multiprocessing is a powerful feature in Python that enables developers to harness the full potential of modern hardware,\n",
    "distribute tasks effectively, and achieve true parallelism, making it a valuable tool for performance-critical and CPU-intensive\n",
    "applications. '''"
   ]
  },
  {
   "cell_type": "markdown",
   "id": "5929118c-8d65-43c3-98e4-03eb431e68d5",
   "metadata": {},
   "source": [
    "## Q2. What are the differences between multiprocessing and multithreading?"
   ]
  },
  {
   "cell_type": "code",
   "execution_count": null,
   "id": "bd3d4b62-5052-47b2-9542-9ffe02af0ec7",
   "metadata": {},
   "outputs": [],
   "source": [
    "Multiprocessing and multithreading are both techniques used to achieve concurrent execution in Python, but they have significant differences in how they work and what they offer. Let's explore the main differences between multiprocessing and multithreading:\n",
    "\n",
    "Execution Model:\n",
    "\n",
    "Multiprocessing: In multiprocessing, each process runs independently in its memory space, with its own Python interpreter.\n",
    "Processes do not share memory by default, which ensures isolation between them.\n",
    "Multithreading: In multithreading, multiple threads run within the same process and share the same memory space. \n",
    "Threads have access to shared variables and data structures, which can lead to synchronization and data sharing issues.\n",
    "Parallelism:\n",
    "\n",
    "Multiprocessing: Multiprocessing provides true parallelism since each process can be executed on a separate CPU core.\n",
    "This allows for maximum utilization of multiple CPU cores for CPU-bound tasks.\n",
    "Multithreading: Multithreading does not provide true parallelism due to the Global Interpreter Lock (GIL) in CPython, \n",
    "which restricts the execution of Python bytecode to a single thread at a time. This limitation makes multithreading more suitable for I/O-bound tasks rather than CPU-bound tasks.\n",
    "Resource Sharing and Synchronization:\n",
    "\n",
    "Multiprocessing: Processes do not share memory by default, but the \"multiprocessing\" module provides mechanisms like pipes, queues,\n",
    "and shared memory for interprocess communication and coordination.\n",
    "Multithreading: Threads share the same memory space, allowing them to easily share data and variables. However, this shared access requires\n",
    "proper synchronization mechanisms (e.g., locks, semaphores) to avoid race conditions and ensure thread safety.\n",
    "\n",
    "Isolation and Stability:\n",
    "\n",
    "Multiprocessing: Since processes run independently, if one process crashes, it does not affect others. This isolation enhances \n",
    "the stability and reliability of the program.\n",
    "Multithreading: Threads within the same process are tightly connected, so if one thread encounters an error (e.g., segmentation fault),\n",
    "it can crash the entire process, affecting all other threads.\n",
    "Complexity:\n",
    "\n",
    "Multiprocessing: Implementing multiprocessing can be more complex due to the separate memory space for processes and the need for \n",
    "interprocess communication.\n",
    "Multithreading: Multithreading can be simpler to implement since threads share memory and do not require explicit communication \n",
    "mechanisms. However, handling thread synchronization and avoiding race conditions can add complexity.\n",
    "Use Cases:\n",
    "\n",
    "Multiprocessing: Multiprocessing is well-suited for CPU-bound tasks that can benefit from true parallel execution, especially on systems \n",
    "with multiple CPU cores.\n",
    "Multithreading: Multithreading is beneficial for I/O-bound tasks that involve waiting for I/O operations (e.g., reading/writing files,\n",
    "making network requests) since threads can continue executing other tasks during these waits.\n",
    "In summary, multiprocessing and multithreading serve different purposes and offer distinct advantages based on the nature of the tasks\n",
    "and the available hardware resources. Multiprocessing is suitable for CPU-bound tasks and parallelism, while multithreading is\n",
    "more suitable for I/O-bound tasks and responsiveness."
   ]
  },
  {
   "cell_type": "markdown",
   "id": "810c4914-932e-469f-87e2-17f36fad1b8c",
   "metadata": {},
   "source": [
    "## Q3. Write a python code to create a process using the multiprocessing module."
   ]
  },
  {
   "cell_type": "code",
   "execution_count": 4,
   "id": "7d7d99ce-9024-409d-a8ef-78fce12ad462",
   "metadata": {},
   "outputs": [
    {
     "name": "stdout",
     "output_type": "stream",
     "text": [
      "Hello from the child process!\n",
      "Hello from the main process!\n"
     ]
    }
   ],
   "source": [
    "import multiprocessing\n",
    "\n",
    "def print_hello():\n",
    "    print(\"Hello from the child process!\")\n",
    "\n",
    "if __name__ == \"__main__\":\n",
    "    # Create a new process\n",
    "    process = multiprocessing.Process(target=print_hello)\n",
    "\n",
    "    # Start the process\n",
    "    process.start()\n",
    "\n",
    "    # Wait for the process to complete\n",
    "    process.join()\n",
    "\n",
    "    # Print from the main process\n",
    "    print(\"Hello from the main process!\")"
   ]
  },
  {
   "cell_type": "markdown",
   "id": "02eca4ca-c7a9-4c1a-a716-821d6ef95d21",
   "metadata": {},
   "source": [
    "## Q4. What is a multiprocessing pool in python? Why is it used?"
   ]
  },
  {
   "cell_type": "code",
   "execution_count": null,
   "id": "d04cafd1-357f-4e57-95aa-0ee9fe7ca3ee",
   "metadata": {},
   "outputs": [],
   "source": [
    "'''A multiprocessing pool in Python is a convenient feature provided by the \"multiprocessing\" module to manage a pool of worker processes. \n",
    "It allows you to parallelize the execution of a function across multiple input values or tasks.\n",
    "The pool distributes the tasks among the available processes, making it easy to harness the power of multiple CPU cores \n",
    "for concurrent execution.\n",
    "\n",
    "The main components of a multiprocessing pool are:\n",
    "\n",
    "Worker Processes: The pool creates a specified number of worker processes, usually equal to the number of CPU cores \n",
    "available on the system. Each worker process runs in its memory space and can execute tasks independently.\n",
    "\n",
    "Task Distribution: When you submit tasks to the pool, it divides them among the worker processes, distributing\n",
    "the workload across the pool.\n",
    "\n",
    "Result Collection: As the worker processes complete their tasks, the pool collects and stores the results \n",
    "for each task, making it easy to retrieve the results once all tasks are complete.\n",
    "\n",
    "The multiprocessing.Pool class provides the pool functionality. It can be used to parallelize computations,\n",
    "perform data processing tasks in parallel, or distribute I/O-bound tasks efficiently.\n",
    "\n",
    "The main benefits of using a multiprocessing pool are:\n",
    "\n",
    "Efficient Utilization of CPU Cores: A pool allows you to utilize multiple CPU cores effectively, speeding up the execution \n",
    "of CPU-bound tasks.\n",
    "\n",
    "Simplified Task Parallelism: The pool abstracts away the complexity of managing individual processes and distributing tasks. \n",
    "You can easily submit tasks to the pool and let it handle the parallel execution.\n",
    "\n",
    "esult Aggregation: The pool automatically collects and stores the results of each task, making it easy to retrieve the output\n",
    "once all tasks are complete.\n",
    "\n",
    "Improved Responsiveness: Using a pool can lead to improved responsiveness for tasks involving I/O operations, \n",
    "as other processes can continue running while waiting for I/O to complete.\n",
    "\n",
    "Here's a simple example to demonstrate the use of a multiprocessing pool: '''\n"
   ]
  },
  {
   "cell_type": "code",
   "execution_count": 5,
   "id": "720250c7-af11-4f82-9b1f-ba63117caa24",
   "metadata": {},
   "outputs": [
    {
     "name": "stdout",
     "output_type": "stream",
     "text": [
      "Squared results: [1, 4, 9, 16, 25]\n"
     ]
    }
   ],
   "source": [
    "import multiprocessing\n",
    "\n",
    "def square(x):\n",
    "    return x * x\n",
    "\n",
    "if __name__ == \"__main__\":\n",
    "    inputs = [1, 2, 3, 4, 5]\n",
    "\n",
    "    # Create a multiprocessing pool with 2 worker processes\n",
    "    with multiprocessing.Pool(processes=2) as pool:\n",
    "        results = pool.map(square, inputs)\n",
    "\n",
    "    print(\"Squared results:\", results)\n",
    "    \n",
    "'''In this example, we define a function square(x) to calculate the square of a number.\n",
    "We create a list of input values (inputs) and use a multiprocessing pool with two worker processes\n",
    "(processes=2) to calculate the squares of all elements in the inputs list. The pool.map() method is used to\n",
    "distribute the tasks (applying the square() function to each input) among the worker processes. The results are collected in the\n",
    "results list and printed.'''"
   ]
  },
  {
   "cell_type": "markdown",
   "id": "a5f6401a-aa79-4e03-986e-b93cd8cdb37d",
   "metadata": {},
   "source": [
    "## Q5. How can we create a pool of worker processes in python using the multiprocessing module?"
   ]
  },
  {
   "cell_type": "code",
   "execution_count": null,
   "id": "2a1f72f7-f85c-46ad-8a17-9770221df0a6",
   "metadata": {},
   "outputs": [],
   "source": [
    "To create a pool of worker processes in Python using the multiprocessing module, you can use the multiprocessing.\n",
    "Pool class. The Pool class provides a simple and convenient way to manage a pool of worker processes and distribute tasks among them.\n",
    "Here's how you can create a pool of worker processes:\n",
    "\n",
    "Import the multiprocessing module.\n",
    "\n",
    "Define the function that each worker process will execute. This function will be called with different input values (tasks) \n",
    "that you want to process in parallel.\n",
    "\n",
    "Create a list of input values or tasks that you want to process in parallel.\n",
    "\n",
    "Create a Pool object by using the multiprocessing.Pool() constructor. The constructor takes an optional argument processes, \n",
    "which specifies the number of worker processes to create. If not provided, it will use the number of CPU cores available on your system.\n",
    "\n",
    "Use the Pool.map() method to distribute the tasks among the worker processes. The map() method takes the function to be executed\n",
    "(the one defined in step 2) and the list of input values (tasks). It will apply the function to each input value and return the results.\n",
    "\n",
    "Remember to close the pool using the Pool.close() method and wait for all the worker processes to complete using the Pool.join() method."
   ]
  },
  {
   "cell_type": "code",
   "execution_count": 6,
   "id": "379ea10f-90f7-438a-92db-2d9de6a2ed89",
   "metadata": {},
   "outputs": [
    {
     "name": "stdout",
     "output_type": "stream",
     "text": [
      "Squared results: [1, 4, 9, 16, 25]\n"
     ]
    }
   ],
   "source": [
    "import multiprocessing\n",
    "\n",
    "# Function to be executed by worker processes\n",
    "def square(x):\n",
    "    return x * x\n",
    "\n",
    "if __name__ == \"__main__\":\n",
    "    # List of input values\n",
    "    inputs = [1, 2, 3, 4, 5]\n",
    "\n",
    "    # Create a multiprocessing pool with 2 worker processes\n",
    "    with multiprocessing.Pool(processes=2) as pool:\n",
    "        # Distribute the tasks among the worker processes and get the results\n",
    "        results = pool.map(square, inputs)\n",
    "\n",
    "    # Print the results\n",
    "    print(\"Squared results:\", results)"
   ]
  },
  {
   "cell_type": "markdown",
   "id": "94e55061-087b-419e-8933-a9491fd572cc",
   "metadata": {},
   "source": [
    "## Q6. Write a python program to create 4 processes, each process should print a different number using the multiprocessing module in python."
   ]
  },
  {
   "cell_type": "code",
   "execution_count": 7,
   "id": "fee20362-9892-4dba-988d-760182cbb71c",
   "metadata": {},
   "outputs": [
    {
     "name": "stdout",
     "output_type": "stream",
     "text": [
      "Process 2: 2Process 3: 3Process 1: 1Process 4: 4\n",
      "\n",
      "\n",
      "\n"
     ]
    }
   ],
   "source": [
    "import multiprocessing\n",
    "\n",
    "def print_number(number):\n",
    "    print(f\"Process {number}: {number}\")\n",
    "\n",
    "if __name__ == \"__main__\":\n",
    "    # Create a list of numbers for each process\n",
    "    numbers = [1, 2, 3, 4]\n",
    "\n",
    "    # Create a multiprocessing pool with 4 worker processes\n",
    "    with multiprocessing.Pool(processes=4) as pool:\n",
    "        # Distribute the tasks among the worker processes\n",
    "        pool.map(print_number, numbers)\n",
    "        \n",
    "'''Output (example output; order may vary due to multiprocessing):\n",
    "\n",
    "Process 1: 1\n",
    "Process 2: 2\n",
    "Process 4: 4\n",
    "Process 3: 3\n",
    "In this program, we define the function print_number(number) to print the given number along with the process number. \n",
    "We create a list of numbers (numbers) that we want to print using the processes.\n",
    "\n",
    "Then, we use the multiprocessing.Pool class with 4 worker processes (processes=4). The pool.map() method distributes \n",
    "the tasks (printing each number) among the worker processes. Each process prints its respective number along with its process number, \n",
    "resulting in four different numbers printed by four different processes.'''"
   ]
  },
  {
   "cell_type": "code",
   "execution_count": 8,
   "id": "3842a141-4929-4f3e-878e-09ad3593805e",
   "metadata": {},
   "outputs": [
    {
     "name": "stdout",
     "output_type": "stream",
     "text": [
      "Encoded Colors: [2 1 0 2 1 0]\n",
      "Color Labels: ['blue' 'green' 'red']\n",
      "Encoded Sizes: [2 1 0 1 2 0]\n",
      "Size Labels: ['large' 'medium' 'small']\n",
      "Encoded Materials: [2 0 1 0 1 2]\n",
      "Material Labels: ['metal' 'plastic' 'wood']\n"
     ]
    }
   ],
   "source": [
    "from sklearn.preprocessing import LabelEncoder\n",
    "\n",
    "# Sample dataset with categorical variables\n",
    "colors = ['red', 'green', 'blue', 'red', 'green', 'blue']\n",
    "sizes = ['small', 'medium', 'large', 'medium', 'small', 'large']\n",
    "materials = ['wood', 'metal', 'plastic', 'metal', 'plastic', 'wood']\n",
    "\n",
    "# Create a LabelEncoder object for each categorical variable\n",
    "color_encoder = LabelEncoder()\n",
    "size_encoder = LabelEncoder()\n",
    "material_encoder = LabelEncoder()\n",
    "\n",
    "# Fit and transform the categorical variables to obtain the encoded labels\n",
    "encoded_colors = color_encoder.fit_transform(colors)\n",
    "encoded_sizes = size_encoder.fit_transform(sizes)\n",
    "encoded_materials = material_encoder.fit_transform(materials)\n",
    "\n",
    "# Print the encoded labels and the mapping of categories to labels\n",
    "print(\"Encoded Colors:\", encoded_colors)\n",
    "print(\"Color Labels:\", color_encoder.classes_)\n",
    "print(\"Encoded Sizes:\", encoded_sizes)\n",
    "print(\"Size Labels:\", size_encoder.classes_)\n",
    "print(\"Encoded Materials:\", encoded_materials)\n",
    "print(\"Material Labels:\", material_encoder.classes_)"
   ]
  }
 ],
 "metadata": {
  "kernelspec": {
   "display_name": "Python 3 (ipykernel)",
   "language": "python",
   "name": "python3"
  },
  "language_info": {
   "codemirror_mode": {
    "name": "ipython",
    "version": 3
   },
   "file_extension": ".py",
   "mimetype": "text/x-python",
   "name": "python",
   "nbconvert_exporter": "python",
   "pygments_lexer": "ipython3",
   "version": "3.10.8"
  }
 },
 "nbformat": 4,
 "nbformat_minor": 5
}
