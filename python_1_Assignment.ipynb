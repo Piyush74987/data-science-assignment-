{
 "cells": [
  {
   "cell_type": "code",
   "execution_count": null,
   "id": "d2510cf5-755c-4f40-a867-2d50111513ca",
   "metadata": {},
   "outputs": [],
   "source": [
    " # Q1 who developed Python programming language\n",
    " '''Python was created by Guido van Rossum, and first released on February 20, 1991. While you may know the python as a large snake,\n",
    "the name of the Python programming language comes from an old BBC television comedy sketch series called Monty Python's Flying Circus.'''"
   ]
  },
  {
   "cell_type": "code",
   "execution_count": null,
   "id": "46095915-214c-4d26-88db-cd567c8bbf16",
   "metadata": {},
   "outputs": [],
   "source": [
    "# Q2 which type of programming does python support\n",
    "'''Python is a multi-paradigm programming language. Object-oriented programming and structured programming are fully supported,\n",
    "and many of their features support functionalprogramming and aspect-oriented programming (including metaprogramming and metaobjects).'''"
   ]
  },
  {
   "cell_type": "code",
   "execution_count": null,
   "id": "44c01a57-d46e-4160-ae48-c485e5b27305",
   "metadata": {},
   "outputs": [],
   "source": [
    "# Q3  Is Python case sensitive when dealing with identifiers? \n",
    "'''Yes, Python is a case-sensitive language, i.e., it treats uppercase and lowercase characters differently. \n",
    "This applies to identifiers too'''"
   ]
  },
  {
   "cell_type": "code",
   "execution_count": null,
   "id": "7fe842c0-bfcb-4258-a295-f5b7e792187f",
   "metadata": {},
   "outputs": [],
   "source": [
    "# Q4 What is the correct extension of the Python file? \n",
    "'''he correct extension for Python source code files is “. py”. When you create or save a Python script or program,\n",
    "you should use the “. py” extension to indicate that it contains Python code'''"
   ]
  },
  {
   "cell_type": "code",
   "execution_count": null,
   "id": "886de946-652c-41b5-a628-a06c697a713d",
   "metadata": {},
   "outputs": [],
   "source": [
    "# Q5 Is Python code compiled or interpreted? \n",
    "'''Python is an interpreted language, which means the source code of a Python program is converted into\n",
    "bytecode that is then executed by the Python virtual machine.'''"
   ]
  },
  {
   "cell_type": "code",
   "execution_count": null,
   "id": "22f86d93-3c90-4f8f-931f-3462f98194ab",
   "metadata": {},
   "outputs": [],
   "source": [
    "# Q6  Name a few blocks of code used to define in Python language? \n",
    "'''Structure of a program. A Python program is constructed from code blocks. A block is a piece of Python program\n",
    "text that is executed as a unit. The following are blocks: a module, a function body, and a class definition.'''"
   ]
  },
  {
   "cell_type": "code",
   "execution_count": null,
   "id": "6f91cea9-bb53-43ce-94d7-7df09ef4d5dd",
   "metadata": {},
   "outputs": [],
   "source": [
    "# Q7 State a character used to give single-line comments in Python? \n",
    "'''In Python, we use the hash symbol # to write a single-line comment.'''"
   ]
  },
  {
   "cell_type": "code",
   "execution_count": null,
   "id": "ffaf4e5a-09b6-47eb-bd6a-cdfad2519c45",
   "metadata": {},
   "outputs": [],
   "source": [
    "# Q8 Mention functions which can help us to find the version of python that we are currently working on? \n",
    "'''The function sys. version can help us to find the version of python that we are currently working on.'''"
   ]
  },
  {
   "cell_type": "code",
   "execution_count": null,
   "id": "d87a4383-bafc-41c8-a9ee-32e2d43b1339",
   "metadata": {},
   "outputs": [],
   "source": [
    "# Q9  Python supports the creation of anonymous functions at runtime, using a construct called \n",
    "'''Python supports the creation of anonymous functions (i.e. functions that are not bound to a name) at runtime, using a\n",
    "construct called lambda.Lambda functions are restricted to a single expression.'''"
   ]
  },
  {
   "cell_type": "code",
   "execution_count": null,
   "id": "e3140df6-9cd6-495e-95c4-f72aece4f65a",
   "metadata": {},
   "outputs": [],
   "source": [
    "# Q10   What does pip stand for python?\n",
    "''' PIP is a recursive acronym for “Preferred Installer Program” or PIP Installs Packages. It is a command-line utility that installs,\n",
    "reinstalls, or uninstalls PyPI packages with one simple command: pip.'''"
   ]
  },
  {
   "cell_type": "code",
   "execution_count": null,
   "id": "1acd363e-3c5e-4846-9c1e-6e2f542712a2",
   "metadata": {},
   "outputs": [],
   "source": [
    "# Q11 Mention a few built-in functions in python? \n",
    "'''print( ) function.\n",
    "type( ) function.\n",
    "input( ) function.\n",
    "abs( ) function.\n",
    "pow( ) function.\n",
    "dir( ) function.\n",
    "sorted( ) function.'''"
   ]
  },
  {
   "cell_type": "code",
   "execution_count": null,
   "id": "2fff9e78-6871-46fc-b76d-6d32aefdf383",
   "metadata": {},
   "outputs": [],
   "source": [
    "# Q12 What is the maximum possible length of an identifier in Python? \n",
    "'''An identifier can have a maximum length of 79 characters in Python.'''"
   ]
  },
  {
   "cell_type": "code",
   "execution_count": null,
   "id": "294de2fa-1be8-48f3-8dc1-ea8bd24767a0",
   "metadata": {},
   "outputs": [],
   "source": [
    "# Q13 What are the benefits of using Python? \n",
    "'''Easy to Read and Learn. ...\n",
    "Reduces Maintenance Cost. ...\n",
    "Avoid the Harm of Software Bugs. ...\n",
    "Wide Applicability. ...\n",
    "Easy Memory Management. ...\n",
    "Large Community. ...\n",
    "Asynchronous Coding. ...\n",
    "Integration with Other Languages.'''"
   ]
  },
  {
   "cell_type": "code",
   "execution_count": null,
   "id": "44a69708-0dca-476b-81b5-e421b5c6aea2",
   "metadata": {},
   "outputs": [],
   "source": [
    "# Q14  How is memory managed in Python? \n",
    "'''In Python, memory management is handled by a private heap space. The heap is a region of memory where objects are stored\n",
    "and managed. Python's memory manager takes care of allocating memory for new objects and freeing memory for objects that are\n",
    "no longer in use'''"
   ]
  },
  {
   "cell_type": "code",
   "execution_count": null,
   "id": "3eefbc21-f1fa-48ac-b352-5e69f332edde",
   "metadata": {},
   "outputs": [],
   "source": [
    "# Q15 How to install Python on Windows and set path variables? \n",
    "'''Python Installation on Windows\n",
    "Step 1: Select Python Version. ...\n",
    "Step 2: Download Python Executable Installer. ...\n",
    "Step 3: Run Executable Installer. ...\n",
    "Step 4: Add Python to Path (Optional) ...\n",
    "Step 5: Verify Python Was Installed on Windows. ...\n",
    "Step 6: Verify PIP Was Installed. ...'''"
   ]
  },
  {
   "cell_type": "code",
   "execution_count": null,
   "id": "cc7e3d4b-e296-4878-818d-135a8a729b74",
   "metadata": {},
   "outputs": [],
   "source": [
    "# Q16 Is indentation required in python? \n",
    "'''Indentation is a very important concept of Python because without properly indenting the Python code, you will end up seeing\n",
    "IndentationError and the code will not get compiled.'''"
   ]
  }
 ],
 "metadata": {
  "kernelspec": {
   "display_name": "Python 3 (ipykernel)",
   "language": "python",
   "name": "python3"
  },
  "language_info": {
   "codemirror_mode": {
    "name": "ipython",
    "version": 3
   },
   "file_extension": ".py",
   "mimetype": "text/x-python",
   "name": "python",
   "nbconvert_exporter": "python",
   "pygments_lexer": "ipython3",
   "version": "3.10.8"
  }
 },
 "nbformat": 4,
 "nbformat_minor": 5
}
