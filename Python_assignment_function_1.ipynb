{
 "cells": [
  {
   "cell_type": "code",
   "execution_count": 1,
   "id": "d70d6c45-273e-448b-bc01-bdc1d0ccd100",
   "metadata": {},
   "outputs": [],
   "source": [
    "# Q1 Which keyword is used to create a function? Create a function to return a list of odd numbers in the range of 1 to 25.\n",
    "\n",
    "\n",
    "'''The Keyword id Def is used to create the function'''\n",
    "\n",
    "def odd_value(a):\n",
    "    n=[]\n",
    "    for i in a:\n",
    "        if i%2!=0:\n",
    "            n.append(i)\n",
    "        else:\n",
    "            pass\n",
    "    return n\n"
   ]
  },
  {
   "cell_type": "code",
   "execution_count": 2,
   "id": "3a3f55ef-3cb2-490d-9d6e-95860e9fa28d",
   "metadata": {},
   "outputs": [],
   "source": [
    "f=range(1,25)"
   ]
  },
  {
   "cell_type": "code",
   "execution_count": 3,
   "id": "c0215ad2-6072-4c4a-bf7c-31e89a9c77c9",
   "metadata": {},
   "outputs": [
    {
     "data": {
      "text/plain": [
       "[1, 3, 5, 7, 9, 11, 13, 15, 17, 19, 21, 23]"
      ]
     },
     "execution_count": 3,
     "metadata": {},
     "output_type": "execute_result"
    }
   ],
   "source": [
    "odd_value(f)"
   ]
  },
  {
   "cell_type": "code",
   "execution_count": null,
   "id": "5053d178-c6f2-49c4-bbb3-b1a6c228ab67",
   "metadata": {},
   "outputs": [],
   "source": [
    "# Q2 Why *args and **kwargs is used in some functions? Create a function each for *args and **kwargs to demonstrate their use.\n",
    "\n",
    "'''args specifies the number of non-keyworded arguments that can be passed and the operations that can be performed on the function in Python \n",
    "whereas **kwargs is a variable number of keyword arguments that can be passed to a function that can perform dictionary operations.'''"
   ]
  },
  {
   "cell_type": "code",
   "execution_count": 8,
   "id": "9ffb73c9-22c0-4614-8d1f-e358fa522877",
   "metadata": {},
   "outputs": [],
   "source": [
    "def example_args(*args):\n",
    "    return sum(args)\n"
   ]
  },
  {
   "cell_type": "code",
   "execution_count": 9,
   "id": "2a3c6417-1613-44a0-8ed6-2b97830f5be6",
   "metadata": {},
   "outputs": [
    {
     "data": {
      "text/plain": [
       "21"
      ]
     },
     "execution_count": 9,
     "metadata": {},
     "output_type": "execute_result"
    }
   ],
   "source": [
    "example_args(1,2,3,4,5,6)"
   ]
  },
  {
   "cell_type": "code",
   "execution_count": 10,
   "id": "5a3ba335-6eac-4d02-8459-7abb9ef82dc4",
   "metadata": {},
   "outputs": [],
   "source": [
    "def example_kwargs(**kwargs):\n",
    "    return kwargs\n",
    "        "
   ]
  },
  {
   "cell_type": "code",
   "execution_count": 11,
   "id": "121d6b64-c278-4257-bff1-6ec128c68708",
   "metadata": {},
   "outputs": [
    {
     "data": {
      "text/plain": [
       "{'a': 33, 'b': 66, 'c': 99}"
      ]
     },
     "execution_count": 11,
     "metadata": {},
     "output_type": "execute_result"
    }
   ],
   "source": [
    "example_kwargs(a=33,b=66,c=99)"
   ]
  },
  {
   "cell_type": "code",
   "execution_count": 6,
   "id": "9e9e1feb-281a-41d9-b8c3-812a2792ae9b",
   "metadata": {},
   "outputs": [
    {
     "name": "stdout",
     "output_type": "stream",
     "text": [
      "2\n",
      "4\n",
      "6\n",
      "8\n",
      "10\n"
     ]
    }
   ],
   "source": [
    "# Q3 What is an iterator in python? Name the method used to initialise the iterator object and the method\n",
    "# used for iteration. Use these methods to print the first five elements of the given list [2, 4, 6, 8, 10, 12, 14, 16, 18, 20].\n",
    "\n",
    "l=[2, 4, 6, 8, 10, 12, 14, 16, 18, 20]\n",
    "\n",
    "def iter_exam(l):\n",
    "    count=0\n",
    "    for i in l:\n",
    "         if count<5:\n",
    "            print(i)\n",
    "            count+=1\n",
    "            \n",
    "(iter_exam(l))"
   ]
  },
  {
   "cell_type": "code",
   "execution_count": 1,
   "id": "6bd3c950-015a-4c8b-9a9e-1f8fe5db2a5b",
   "metadata": {},
   "outputs": [
    {
     "name": "stdout",
     "output_type": "stream",
     "text": [
      "0\n",
      "1\n",
      "1\n",
      "2\n",
      "3\n",
      "5\n",
      "8\n",
      "13\n",
      "21\n",
      "34\n"
     ]
    }
   ],
   "source": [
    "# Q4 What is a generator function in python? Why yield keyword is used? Give an example of a generator function.\n",
    "\n",
    "'''A generator function in Python is defined like a normal function, but whenever it needs to generate a value, it does so with\n",
    "the yield keyword rather than return. If the body of a def contains yield, the function automatically becomes a Python generator function. '''\n",
    "\n",
    "\n",
    "# example\n",
    "\n",
    "def test_fib(n) :\n",
    "    a,b = 0,1\n",
    "    for i in range(n):\n",
    "        yield a \n",
    "        a,b = b ,a+b \n",
    "        \n",
    "        \n",
    "for i in test_fib(10) : \n",
    "    print(i)"
   ]
  },
  {
   "cell_type": "code",
   "execution_count": 7,
   "id": "28ebcbae-626e-41b0-8367-b4f86420a3cb",
   "metadata": {},
   "outputs": [
    {
     "name": "stdout",
     "output_type": "stream",
     "text": [
      "2\n",
      "3\n",
      "5\n",
      "7\n",
      "11\n",
      "13\n",
      "17\n",
      "19\n",
      "23\n",
      "29\n",
      "31\n",
      "37\n",
      "41\n",
      "43\n",
      "47\n",
      "53\n",
      "59\n",
      "61\n",
      "67\n",
      "71\n"
     ]
    }
   ],
   "source": [
    "# Q5 Create a generator function for prime numbers less than 1000. Use the next() method to print the first 20 prime numbers.\n",
    "\n",
    "def primes():\n",
    "    yield 2\n",
    "    primes_list = [2]\n",
    "    for i in range(3, 1000):\n",
    "        is_prime = True\n",
    "        for prime in primes_list:\n",
    "            if i % prime == 0:\n",
    "                is_prime = False\n",
    "                break\n",
    "        if is_prime:\n",
    "            primes_list.append(i)\n",
    "            yield i\n",
    "\n",
    "prime_gen = primes()\n",
    "# the next() method to print the first 20 prime numbers.\n",
    "for i in range(20):\n",
    "    print(next(prime_gen))"
   ]
  }
 ],
 "metadata": {
  "kernelspec": {
   "display_name": "Python 3 (ipykernel)",
   "language": "python",
   "name": "python3"
  },
  "language_info": {
   "codemirror_mode": {
    "name": "ipython",
    "version": 3
   },
   "file_extension": ".py",
   "mimetype": "text/x-python",
   "name": "python",
   "nbconvert_exporter": "python",
   "pygments_lexer": "ipython3",
   "version": "3.10.8"
  }
 },
 "nbformat": 4,
 "nbformat_minor": 5
}
