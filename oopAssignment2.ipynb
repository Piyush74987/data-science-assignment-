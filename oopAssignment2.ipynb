{
 "cells": [
  {
   "cell_type": "markdown",
   "id": "506940b8-4aed-416a-817e-bf6b1a984d76",
   "metadata": {},
   "source": [
    "## Q1 Create a vehicle class with an init method having instance variables as name_of_vehicle, max_speed and average_of_vehicle"
   ]
  },
  {
   "cell_type": "code",
   "execution_count": 1,
   "id": "18228c34-a633-450c-baa6-3c9f33af6c25",
   "metadata": {},
   "outputs": [
    {
     "name": "stdout",
     "output_type": "stream",
     "text": [
      "{'name_of_vehicle': 'BMW', 'max_speed': 34, 'average_of_vehicle': 23}\n"
     ]
    }
   ],
   "source": [
    "class vehical :\n",
    "    def __init__(self ,name_of_vehicle ,max_speed,average_of_vehicle):\n",
    "        average_of_vehicle\n",
    "        self.name_of_vehicle = name_of_vehicle\n",
    "        self.max_speed = max_speed\n",
    "        self.average_of_vehicle = average_of_vehicle\n",
    "\n",
    "scv = vehical(\"BMW\",34,23)\n",
    "print(scv.__dict__)"
   ]
  },
  {
   "cell_type": "markdown",
   "id": "5e3cb447-250a-4e80-8be3-45eb5da048ea",
   "metadata": {},
   "source": [
    "## Q2.  Create a child class car from the vehicle class created in Que 1, which will inherit the vehicle class. Create a method named seating_capacity which takes capacity as an argument and returns the name of the vehicle and its seating capacity."
   ]
  },
  {
   "cell_type": "code",
   "execution_count": 2,
   "id": "0c5d6db1-7d1a-476c-b6ff-8ad86f6c0fae",
   "metadata": {},
   "outputs": [
    {
     "name": "stdout",
     "output_type": "stream",
     "text": [
      "BMW 1\n"
     ]
    }
   ],
   "source": [
    "class child (vehical):\n",
    "    def display(self , cp):\n",
    "        print(self.name_of_vehicle ,cp)\n",
    "\n",
    "cap1 = child(\"BMW\",34,23)\n",
    "cap1.display(1)"
   ]
  },
  {
   "cell_type": "markdown",
   "id": "a54ec314-a5da-47d9-9704-f7f9c203f12b",
   "metadata": {},
   "source": [
    "## Q3. What is multiple inheritance? Write a python code to demonstrate multiple inheritance"
   ]
  },
  {
   "cell_type": "code",
   "execution_count": 3,
   "id": "365e3c44-76f3-4d60-9c13-63c308c8d7a6",
   "metadata": {},
   "outputs": [
    {
     "name": "stdout",
     "output_type": "stream",
     "text": [
      "This is man class \n"
     ]
    }
   ],
   "source": [
    "#  A class inherit the proprety of multiple class is called as Multiple inheritance\n",
    "class man :\n",
    "    def __init__(self, age , sex):\n",
    "        self.age = age\n",
    "        self.sex = sex\n",
    "    def display():\n",
    "        print(\"This is man class \")\n",
    "class women :\n",
    "    def __init__(self, age , sex):\n",
    "        self.age = age\n",
    "        self.sex = sex\n",
    "    def display():\n",
    "        print(\"This is women class \")\n",
    "\n",
    "class human (man ,women):\n",
    "    pass\n",
    "\n",
    "\n",
    "h1 = human\n",
    "h1.display()"
   ]
  },
  {
   "cell_type": "markdown",
   "id": "16a73fa9-87fd-42b1-ab1b-973dd0d62b2b",
   "metadata": {},
   "source": [
    "## Q4. What are getter and setter in python? Create a class and create a getter and a setter method in this class."
   ]
  },
  {
   "cell_type": "code",
   "execution_count": 4,
   "id": "7c154ebd-a002-4023-aa1f-68820b889c65",
   "metadata": {},
   "outputs": [
    {
     "name": "stdout",
     "output_type": "stream",
     "text": [
      "23\n"
     ]
    }
   ],
   "source": [
    "# getter and setter are the method in python used to access the to the attribute of the class .\n",
    "# the getter allow to retrieve and setter modify the data\n",
    "class car :\n",
    "    speed = 0\n",
    "    def get_speed (self):\n",
    "        return self.speed\n",
    "    def set_speed (self,speed):\n",
    "        self.speed = speed\n",
    "\n",
    "c1 = car()\n",
    "c1.set_speed(23)\n",
    "print(c1.get_speed())\n",
    "    "
   ]
  },
  {
   "cell_type": "markdown",
   "id": "7120f7e3-3adb-4c3b-b666-839c2b8c9406",
   "metadata": {},
   "source": [
    "## Q5.What is method overriding in python? Write a python code to demonstrate method overriding."
   ]
  },
  {
   "cell_type": "code",
   "execution_count": 5,
   "id": "b5ecf20b-f08d-4796-82b0-0a9231c41442",
   "metadata": {},
   "outputs": [
    {
     "name": "stdout",
     "output_type": "stream",
     "text": [
      "area of the circle is  106.76\n",
      "area of the circle is  810000\n"
     ]
    }
   ],
   "source": [
    "# It is the features of OOPS That allows a subclass to provide a different inplementation for a method that is define in the super class\n",
    "\n",
    "class shape :\n",
    "    def area(self):\n",
    "        print (\"THe area of the shape is 0 \")\n",
    "\n",
    "\n",
    "class circle (shape):\n",
    "    def area(self):\n",
    "        pi = 34\n",
    "        print(\"area of the circle is \", 34*3.14)\n",
    "\n",
    "class squre (shape):\n",
    "    def area(self):\n",
    "        l =30\n",
    "        print(\"area of the circle is \", l**4)      \n",
    "\n",
    "\n",
    "c1 = circle()\n",
    "c1.area()\n",
    "s = squre()\n",
    "s.area()"
   ]
  },
  {
   "cell_type": "code",
   "execution_count": null,
   "id": "e0cf3c64-8773-422b-abc7-63808fa691d5",
   "metadata": {},
   "outputs": [],
   "source": []
  }
 ],
 "metadata": {
  "kernelspec": {
   "display_name": "Python 3 (ipykernel)",
   "language": "python",
   "name": "python3"
  },
  "language_info": {
   "codemirror_mode": {
    "name": "ipython",
    "version": 3
   },
   "file_extension": ".py",
   "mimetype": "text/x-python",
   "name": "python",
   "nbconvert_exporter": "python",
   "pygments_lexer": "ipython3",
   "version": "3.10.8"
  }
 },
 "nbformat": 4,
 "nbformat_minor": 5
}
