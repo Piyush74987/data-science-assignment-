{
 "cells": [
  {
   "cell_type": "markdown",
   "id": "479743dc-57f3-4e11-b0fc-c65eefff2494",
   "metadata": {},
   "source": [
    "## Q1. Is there any difference in the data type of variables list_ and array_list? If there is then write a code to print the data types of both the variables."
   ]
  },
  {
   "cell_type": "markdown",
   "id": "07569b63-8004-46e5-abcf-a4dab2c39451",
   "metadata": {},
   "source": [
    "Ans ->\n",
    "\n",
    "In Python, a list is a built-in data structure that can hold an ordered collection of items. It's a versatile data structure that can contain elements of different data types and can dynamically grow or shrink. Lists are created using square brackets [ ].\n",
    "\n",
    "On the other hand, in the context of NumPy (a library in Python for numerical computations), an array refers to a NumPy array. A NumPy array is a more structured and specialized data structure designed for numerical computations. NumPy arrays are homogeneous, meaning they can only contain elements of the same data type. They offer many advantages for mathematical operations and array-based computations."
   ]
  },
  {
   "cell_type": "code",
   "execution_count": 1,
   "id": "e7eea81c-a68e-444e-b85c-1d1b8d6acb42",
   "metadata": {},
   "outputs": [
    {
     "name": "stdout",
     "output_type": "stream",
     "text": [
      "Data type of list: <class 'list'>\n",
      "Data type of array_list: <class 'numpy.ndarray'>\n"
     ]
    }
   ],
   "source": [
    "# import numpy as np\n",
    "# list1  = [1,2,3,4,5,6]\n",
    "\n",
    "# arr = np.array(list1)\n",
    "# # print(\"THe Data type of the list varable -> \", list1.dtypes)\n",
    "# type(arr)\n",
    "import numpy as np\n",
    "\n",
    "list_ = [1, 2, 3, 4, 5]\n",
    "array_list = np.array(list_)\n",
    "\n",
    "print(\"Data type of list:\", type(list_))\n",
    "print(\"Data type of array_list:\", type(array_list))"
   ]
  },
  {
   "cell_type": "code",
   "execution_count": 2,
   "id": "e58b755b-8191-4b32-b3ed-a9ddf3344b2d",
   "metadata": {},
   "outputs": [],
   "source": [
    "import numpy as np\n",
    "\n",
    "list_ = [ '1' , '2','3' , '4' , '5' ]\n",
    "\n",
    "array_list = np.array(object = list_)"
   ]
  },
  {
   "cell_type": "markdown",
   "id": "8147f6da-8b0c-4b45-bbad-27da9c96ecc6",
   "metadata": {},
   "source": [
    "## Q2. Write a code to print the data type of each and every element of both the variables list_ and arra_list"
   ]
  },
  {
   "cell_type": "code",
   "execution_count": 3,
   "id": "79403460-44ed-4a99-8148-dab9f9e528a8",
   "metadata": {},
   "outputs": [
    {
     "name": "stdout",
     "output_type": "stream",
     "text": [
      "Data types of elements in list:\n",
      "<class 'int'>\n",
      "<class 'int'>\n",
      "<class 'int'>\n",
      "<class 'int'>\n",
      "<class 'int'>\n",
      "\n",
      "Data types of elements in array_list:\n",
      "<class 'numpy.int64'>\n",
      "<class 'numpy.int64'>\n",
      "<class 'numpy.int64'>\n",
      "<class 'numpy.int64'>\n",
      "<class 'numpy.int64'>\n"
     ]
    }
   ],
   "source": [
    "import numpy as np\n",
    "\n",
    "list_ = [1, 2, 3, 4, 5]\n",
    "array_list = np.array(list_)\n",
    "\n",
    "# Print data types of each element in list_\n",
    "print(\"Data types of elements in list:\")\n",
    "for item in list_:\n",
    "    print(type(item))\n",
    "\n",
    "# Print data types of each element in array_list\n",
    "print(\"\\nData types of elements in array_list:\")\n",
    "for item in array_list:\n",
    "    print(type(item))"
   ]
  },
  {
   "cell_type": "markdown",
   "id": "930ef1a1-2b68-4f3a-a3cc-29e37d13c59b",
   "metadata": {},
   "source": [
    "## Q3. Considering the following changes in the variable, array_list:\n",
    "array_list = np.array(object = list_, dtype = int)\n",
    "\n",
    "Will there be any difference in the data type of the elements present in both the variables, list_ and arra_list? If so then print the data types of each and every element present in both the variables, list_ and arra_list.\n",
    "\n",
    "Consider the below code to answer further questions:\n",
    "\n",
    "import numpy as np\n",
    "\n",
    "num_list = [ [ 1 , 2 , 3 ] , [ 4 , 5 , 6 ] ]\n",
    "\n",
    "num_array = np.array(object = num_list)\n",
    "\n",
    "Ans -> In the provided code, you are creating a NumPy array num_array using the list num_list. The elements in the num_array will have the same data types as the elements in the original num_list. Since the dtype parameter is not explicitly specified, NumPy will automatically determine the appropriate data type based on the elements in the list."
   ]
  },
  {
   "cell_type": "code",
   "execution_count": 4,
   "id": "4fc84723-fd6f-4153-8ad0-f9e62e591eae",
   "metadata": {},
   "outputs": [
    {
     "name": "stdout",
     "output_type": "stream",
     "text": [
      "Data types of elements in num_list:\n",
      "<class 'int'>\n",
      "<class 'int'>\n",
      "<class 'int'>\n",
      "<class 'int'>\n",
      "<class 'int'>\n",
      "<class 'int'>\n",
      "\n",
      "Data types of elements in num_array:\n",
      "<class 'numpy.int64'>\n",
      "<class 'numpy.int64'>\n",
      "<class 'numpy.int64'>\n",
      "<class 'numpy.int64'>\n",
      "<class 'numpy.int64'>\n",
      "<class 'numpy.int64'>\n"
     ]
    }
   ],
   "source": [
    "import numpy as np\n",
    "\n",
    "# Original list and NumPy array creation\n",
    "num_list = [[1, 2, 3], [4, 5, 6]]\n",
    "num_array = np.array(object=num_list)\n",
    "\n",
    "# Printing data types of elements in num_list\n",
    "print(\"Data types of elements in num_list:\")\n",
    "for sublist in num_list:\n",
    "    for item in sublist:\n",
    "        print(type(item))\n",
    "\n",
    "# Printing data types of elements in num_array\n",
    "print(\"\\nData types of elements in num_array:\")\n",
    "for sublist in num_array:\n",
    "    for item in sublist:\n",
    "        print(type(item))"
   ]
  },
  {
   "cell_type": "markdown",
   "id": "fb7189bb-72ef-4f48-bbfc-b06171485d0d",
   "metadata": {},
   "source": [
    "## Q4. Write a code to find the following characteristics of variable, num_array:\n",
    "(i) shape\n",
    "\n",
    "(ii) size"
   ]
  },
  {
   "cell_type": "code",
   "execution_count": 5,
   "id": "af4f0896-c2fd-43f3-b0d1-4eac45ef991b",
   "metadata": {},
   "outputs": [
    {
     "name": "stdout",
     "output_type": "stream",
     "text": [
      "The shape of the arry is  (2, 4)\n",
      "The size of the array is  8\n"
     ]
    }
   ],
   "source": [
    "import numpy  as np \n",
    "l1 = [[1,3,4,5],[4,5,6,7]]\n",
    "arr1 = np.array(l1)\n",
    "print(\"The shape of the arry is \" ,arr1.shape)\n",
    "print(\"The size of the array is \",arr1.size)"
   ]
  },
  {
   "cell_type": "markdown",
   "id": "66c7b146-ba6a-4015-815c-7fb012001652",
   "metadata": {},
   "source": [
    "## Q5. Write a code to create numpy array of 3*3 matrix containing zeros only, using a numpy array creation function."
   ]
  },
  {
   "cell_type": "code",
   "execution_count": 6,
   "id": "1ba69839-c543-4295-853c-97ea3d896241",
   "metadata": {},
   "outputs": [
    {
     "data": {
      "text/plain": [
       "array([[0., 0., 0.],\n",
       "       [0., 0., 0.],\n",
       "       [0., 0., 0.]])"
      ]
     },
     "execution_count": 6,
     "metadata": {},
     "output_type": "execute_result"
    }
   ],
   "source": [
    "import numpy  as np \n",
    "arr = np.zeros((3,3))\n",
    "arr"
   ]
  },
  {
   "cell_type": "markdown",
   "id": "ab47b9bf-c61e-4103-a95b-40514a418a0f",
   "metadata": {},
   "source": [
    "## Q6. Create an identity matrix of shape (5,5) using numpy functions"
   ]
  },
  {
   "cell_type": "code",
   "execution_count": 7,
   "id": "bb70ba33-6e92-4b1b-89fb-5474811b453d",
   "metadata": {},
   "outputs": [
    {
     "data": {
      "text/plain": [
       "array([[1., 0., 0., 0., 0.],\n",
       "       [0., 1., 0., 0., 0.],\n",
       "       [0., 0., 1., 0., 0.],\n",
       "       [0., 0., 0., 1., 0.],\n",
       "       [0., 0., 0., 0., 1.]])"
      ]
     },
     "execution_count": 7,
     "metadata": {},
     "output_type": "execute_result"
    }
   ],
   "source": [
    "import numpy  as np \n",
    "arr = np.eye(5)\n",
    "arr"
   ]
  }
 ],
 "metadata": {
  "kernelspec": {
   "display_name": "Python 3 (ipykernel)",
   "language": "python",
   "name": "python3"
  },
  "language_info": {
   "codemirror_mode": {
    "name": "ipython",
    "version": 3
   },
   "file_extension": ".py",
   "mimetype": "text/x-python",
   "name": "python",
   "nbconvert_exporter": "python",
   "pygments_lexer": "ipython3",
   "version": "3.10.8"
  }
 },
 "nbformat": 4,
 "nbformat_minor": 5
}
