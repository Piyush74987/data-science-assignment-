{
 "cells": [
  {
   "cell_type": "markdown",
   "id": "97f25811-3fb3-4f13-a847-783d411adeb2",
   "metadata": {},
   "source": [
    "# Q1. Create a Pandas Series that contains the following data: 4, 8, 15, 16, 23, and 42. Then, print the series."
   ]
  },
  {
   "cell_type": "code",
   "execution_count": 2,
   "id": "495e12df-bee7-4424-a643-ead6c5899935",
   "metadata": {},
   "outputs": [
    {
     "name": "stdout",
     "output_type": "stream",
     "text": [
      "0     4\n",
      "1     8\n",
      "2    15\n",
      "3    16\n",
      "4    23\n",
      "5    42\n",
      "dtype: int64\n"
     ]
    }
   ],
   "source": [
    "import pandas as pd\n",
    "\n",
    "t1=(4,8,15,16,23,42)\n",
    "ser=pd.Series(t1)\n",
    "\n",
    "print(ser)"
   ]
  },
  {
   "cell_type": "markdown",
   "id": "fffe8d35-f9db-43d6-84c5-9a82276c5a5d",
   "metadata": {},
   "source": [
    "# Q2. Create a variable of list type containing 10 elements in it, and apply pandas.Series function on the variable print it."
   ]
  },
  {
   "cell_type": "code",
   "execution_count": 3,
   "id": "c7c55cb1-6662-410d-8a53-27d57ee2a97c",
   "metadata": {},
   "outputs": [
    {
     "name": "stdout",
     "output_type": "stream",
     "text": [
      "0         4\n",
      "1         8\n",
      "2        33\n",
      "3       3.5\n",
      "4        42\n",
      "5     messi\n",
      "6        99\n",
      "7     pedri\n",
      "8    (3+4j)\n",
      "9     False\n",
      "dtype: object\n"
     ]
    }
   ],
   "source": [
    "import pandas as pd\n",
    "\n",
    "l1=(4,8,33,3.5,42,'messi',99,'pedri',3+4j,False)\n",
    "ser1=pd.Series(l1)\n",
    "\n",
    "print(ser1)"
   ]
  },
  {
   "cell_type": "markdown",
   "id": "3de5f1cb-5eae-468d-b5ca-affdd7c2e083",
   "metadata": {},
   "source": [
    "# Q3. Create a Pandas DataFrame that contains the following data: Then, print the DataFrame. "
   ]
  },
  {
   "cell_type": "code",
   "execution_count": 5,
   "id": "c36266d4-0ba6-42ff-8898-14a34a38989b",
   "metadata": {},
   "outputs": [
    {
     "name": "stdout",
     "output_type": "stream",
     "text": [
      "     Name  Age  Gender\n",
      "0   Alice   25  Female\n",
      "1     Bob   30    Male\n",
      "2  Claire   27  Female\n"
     ]
    }
   ],
   "source": [
    "import pandas as pd\n",
    "\n",
    "data={\"Name\":[\"Alice\",\"Bob\",\"Claire\"],\"Age\":[25,30,27],\"Gender\":[\"Female\",\"Male\",\"Female\"]}\n",
    "                                                    \n",
    "df=pd.DataFrame(data) \n",
    "                                                           \n",
    "print(df)                                                          "
   ]
  },
  {
   "cell_type": "markdown",
   "id": "144b2a0f-8f52-427c-8e77-229615119b3f",
   "metadata": {},
   "source": [
    "# Q4. What is ‘DataFrame’ in pandas and how is it different from pandas.series? Explain with an example."
   ]
  },
  {
   "cell_type": "code",
   "execution_count": 12,
   "id": "6e36b2e5-1fa4-4f05-b88f-b327fab93ba4",
   "metadata": {},
   "outputs": [
    {
     "name": "stdout",
     "output_type": "stream",
     "text": [
      "     Name  Age  Gender\n",
      "0   Alice   25  Female\n",
      "1     Bob   30    Male\n",
      "2  Claire   27  Female\n",
      "This is example of data frame\n",
      "-------------------------------------------------------------------------------------------------------------------\n",
      "0         4\n",
      "1         8\n",
      "2        33\n",
      "3       3.5\n",
      "4        42\n",
      "5     messi\n",
      "6        99\n",
      "7     pedri\n",
      "8    (3+4j)\n",
      "9     False\n",
      "dtype: object\n",
      "This is example of data series\n",
      "as u can see above in data frame there are multply colums and in series there is just a single colums\n"
     ]
    }
   ],
   "source": [
    "'''One of the main differences between DataFrame and Series is that a DataFrame can have multiple columns, while a Series can only have one.\n",
    "This means that a DataFrame can store more complex and heterogeneous data, while a Series can store more simple and homogeneous data'''\n",
    "\n",
    "import pandas as pd\n",
    "\n",
    "data={\"Name\":[\"Alice\",\"Bob\",\"Claire\"],\"Age\":[25,30,27],\"Gender\":[\"Female\",\"Male\",\"Female\"]}\n",
    "                                                    \n",
    "df=pd.DataFrame(data) \n",
    "                                                           \n",
    "print(df)    \n",
    "print(\"This is example of data frame\")\n",
    "\n",
    "print(\"-------------------------------------------------------------------------------------------------------------------\")\n",
    "\n",
    "import pandas as pd\n",
    "\n",
    "l1=(4,8,33,3.5,42,'messi',99,'pedri',3+4j,False)\n",
    "ser1=pd.Series(l1)\n",
    "\n",
    "print(ser1)\n",
    "\n",
    "print(\"This is example of data series\")\n",
    "\n",
    "\n",
    "print(\"as u can see above in data frame there are multply colums and in series there is just a single colums\")"
   ]
  },
  {
   "cell_type": "markdown",
   "id": "840eb4a2-000e-4471-a148-bdff1ed179a4",
   "metadata": {},
   "source": [
    "# Q5. What are some common functions you can use to manipulate data in a Pandas DataFrame? Can\n",
    "# you give an example of when you might use one of these functions?"
   ]
  },
  {
   "cell_type": "code",
   "execution_count": 18,
   "id": "44d30f1d-b08c-4504-8ad8-22aebb99c4e9",
   "metadata": {},
   "outputs": [
    {
     "name": "stdout",
     "output_type": "stream",
     "text": [
      "examples are \n",
      "     #             Team  Pl   W   D   L   F   A  GD  Pts  Last 6\n",
      "0    1      Real Madrid  29  22   6   1  64  20  44   72     NaN\n",
      "1    2        Barcelona  29  19   7   3  60  34  26   64     NaN\n",
      "2    3           Girona  29  19   5   5  59  34  25   62     NaN\n",
      "3    4  Athletic Bilbao  29  16   8   5  50  26  24   56     NaN\n",
      "4    5  Atletico Madrid  29  17   4   8  54  34  20   55     NaN\n",
      "5    6    Real Sociedad  29  12  10   7  42  31  11   46     NaN\n",
      "6    7       Real Betis  29  10  12   7  34  33   1   42     NaN\n",
      "7    8         Valencia  28  11   7  10  32  32   0   40     NaN\n",
      "8    9       Villarreal  29  10   8  11  47  51  -4   38     NaN\n",
      "9   10           Getafe  29   9  11   9  37  42  -5   38     NaN\n",
      "10  11       Las Palmas  29  10   7  12  29  32  -3   37     NaN\n",
      "11  12          Osasuna  29  10   6  13  33  43 -10   36     NaN\n",
      "12  13           Alaves  29   8   8  13  26  35  -9   32     NaN\n",
      "13  14    Real Mallorca  29   6  12  11  25  35 -10   30     NaN\n",
      "14  15   Rayo Vallecano  29   6  11  12  25  38 -13   29     NaN\n",
      "15  16          Sevilla  29   6  10  13  36  44  -8   28     NaN\n",
      "16  17       Celta Vigo  29   6   9  14  32  44 -12   27     NaN\n",
      "17  18            Cadiz  29   3  13  13  20  40 -20   22     NaN\n",
      "18  19          Granada  28   2   8  18  30  58 -28   14     NaN\n",
      "19  20          Almeria  29   1  10  18  28  57 -29   13     NaN\n",
      "-------------------------------------------------------------------------------------------------------------------\n",
      "   #             Team  Pl   W  D  L   F   A  GD  Pts  Last 6\n",
      "0  1      Real Madrid  29  22  6  1  64  20  44   72     NaN\n",
      "1  2        Barcelona  29  19  7  3  60  34  26   64     NaN\n",
      "2  3           Girona  29  19  5  5  59  34  25   62     NaN\n",
      "3  4  Athletic Bilbao  29  16  8  5  50  26  24   56     NaN\n",
      "4  5  Atletico Madrid  29  17  4  8  54  34  20   55     NaN\n",
      "-------------------------------------------------------------------------------------------------------------------\n",
      "     #        Team  Pl  W   D   L   F   A  GD  Pts  Last 6\n",
      "15  16     Sevilla  29  6  10  13  36  44  -8   28     NaN\n",
      "16  17  Celta Vigo  29  6   9  14  32  44 -12   27     NaN\n",
      "17  18       Cadiz  29  3  13  13  20  40 -20   22     NaN\n",
      "18  19     Granada  28  2   8  18  30  58 -28   14     NaN\n",
      "19  20     Almeria  29  1  10  18  28  57 -29   13     NaN\n",
      "-------------------------------------------------------------------------------------------------------------------\n",
      "this is example data frame function\n"
     ]
    }
   ],
   "source": [
    "'''Here are some of the most common Pandas data manipulation tasks: Data selection: Pandas provides a variety of functions for selecting data,\n",
    "such as read ,head(), tail(), iloc(), and loc().These functions allow you to select specific rows, columns, or subsets of data from a DataFrame.'''\n",
    "print (\"examples are \")\n",
    "\n",
    "import pandas as pd \n",
    "\n",
    "df3=pd.read_csv(\"la liga table 2023-24.csv\")\n",
    "\n",
    "print(df3)\n",
    "\n",
    "print(\"-------------------------------------------------------------------------------------------------------------------\")\n",
    "\n",
    "print(df3.head())\n",
    "\n",
    "print(\"-------------------------------------------------------------------------------------------------------------------\")\n",
    "\n",
    "print(df3.tail())\n",
    "print(\"-------------------------------------------------------------------------------------------------------------------\")\n",
    "print(\"this is example data frame function\")\n"
   ]
  },
  {
   "cell_type": "markdown",
   "id": "0b4dac08-535c-42a9-a038-9ea6dedf1a7e",
   "metadata": {},
   "source": [
    "# Q6. Which of the following is mutable in nature Series, DataFrame, Panel?"
   ]
  },
  {
   "cell_type": "code",
   "execution_count": null,
   "id": "0e327d55-3f76-4311-828e-63b754e8f942",
   "metadata": {},
   "outputs": [],
   "source": [
    "'''A Series, by contrast, is only value-mutable, not size-mutable. The length of a Series cannot be changed although the values can be changed'''\n",
    "\n",
    "\n",
    "'''Pandas DataFrame is mutable! Python Pandas package provides a fast and flexible relational data analysis module. The module`s concept is to\n",
    "create practical data analysis from labelled data correlated to an index. The DataFrame is therefore mutable; data can be added, updated or deleted'''\n",
    "\n",
    "\n",
    "''' A panel is value mutable'''\n",
    "\n"
   ]
  },
  {
   "cell_type": "markdown",
   "id": "b9649395-e40f-4bde-b91c-2f23ee60d5af",
   "metadata": {},
   "source": [
    "# Q7. Create a DataFrame using multiple Series. Explain with an example."
   ]
  },
  {
   "cell_type": "code",
   "execution_count": 20,
   "id": "0515f803-724c-4043-b3d7-bfe12fc91e97",
   "metadata": {},
   "outputs": [
    {
     "name": "stdout",
     "output_type": "stream",
     "text": [
      "Example\n",
      "Create pandas Series:\n",
      "         0      1     2\n",
      "0  python  22000  1000\n",
      "1    java  25000  2300\n",
      "2     C++  23000  1000\n",
      "-------------------------------------------------------------------------------------------------------------------\n",
      "This is an Example of data frame from multiple series\n"
     ]
    }
   ],
   "source": [
    "'''You can create a DataFrame from multiple Series objects by adding each series as a columns.\n",
    "\n",
    "By using concat() method you can merge multiple series together into DataFrame. This takes several params, for our scenario we use list that\n",
    "takes series to combine and axis=1 to specify merge series as columns instead of rows. Note that using axis=0 appends series to rows\n",
    "instead of columns.'''\n",
    "\n",
    "print(\"Example\")\n",
    "\n",
    "import pandas as pd\n",
    "\n",
    "courses = pd.Series([\"python\",\"java\",\"C++\"])\n",
    "fees = pd.Series([22000,25000,23000])\n",
    "discount  = pd.Series([1000,2300,1000])\n",
    "\n",
    "\n",
    "df=pd.concat([courses,fees,discount],axis=1)\n",
    "print(\"Create pandas Series:\\n\",df)\n",
    "\n",
    "print(\"-------------------------------------------------------------------------------------------------------------------\")\n",
    "\n",
    "print (\"This is an Example of data frame from multiple series\")"
   ]
  },
  {
   "cell_type": "code",
   "execution_count": null,
   "id": "2898a1b8-34f6-4db2-9bef-9871e8c8b35d",
   "metadata": {},
   "outputs": [],
   "source": []
  }
 ],
 "metadata": {
  "kernelspec": {
   "display_name": "Python 3 (ipykernel)",
   "language": "python",
   "name": "python3"
  },
  "language_info": {
   "codemirror_mode": {
    "name": "ipython",
    "version": 3
   },
   "file_extension": ".py",
   "mimetype": "text/x-python",
   "name": "python",
   "nbconvert_exporter": "python",
   "pygments_lexer": "ipython3",
   "version": "3.10.8"
  }
 },
 "nbformat": 4,
 "nbformat_minor": 5
}
